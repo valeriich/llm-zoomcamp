{
 "cells": [
  {
   "cell_type": "code",
   "execution_count": 1,
   "id": "95500968-6b31-42f9-8892-852dab052940",
   "metadata": {},
   "outputs": [],
   "source": [
    "prompt = \"is it too late to join the course?\""
   ]
  },
  {
   "cell_type": "markdown",
   "id": "678a098c-34c5-473a-8f28-5796f6869e27",
   "metadata": {},
   "source": [
    "# OpenAI API"
   ]
  },
  {
   "cell_type": "code",
   "execution_count": 2,
   "id": "6c6a7572-101d-4e43-a671-b65f5849e75f",
   "metadata": {},
   "outputs": [],
   "source": [
    "import openai\n",
    "from openai import OpenAI\n",
    "import os"
   ]
  },
  {
   "cell_type": "code",
   "execution_count": 2,
   "id": "a766af81-7246-4bd2-86f9-4dabba5442e7",
   "metadata": {},
   "outputs": [],
   "source": [
    "OPENAI_API_KEY = os.environ['OPENAI_API_KEY']"
   ]
  },
  {
   "cell_type": "code",
   "execution_count": 7,
   "id": "39d7743e-0144-44b2-b046-65068616c66b",
   "metadata": {},
   "outputs": [],
   "source": [
    "client = OpenAI(api_key=OPENAI_API_KEY)"
   ]
  },
  {
   "cell_type": "code",
   "execution_count": 11,
   "id": "f758c21e-f5ee-4836-ae55-9fe27f98dfae",
   "metadata": {},
   "outputs": [],
   "source": [
    "response = client.chat.completions.create(\n",
    "    model='gpt-4o',\n",
    "    messages=[{\"role\": \"user\", \"content\": prompt}]\n",
    ")"
   ]
  },
  {
   "cell_type": "code",
   "execution_count": 16,
   "id": "80c6aadb-f245-4ec7-9fc0-c4df7b51a80b",
   "metadata": {},
   "outputs": [
    {
     "data": {
      "text/plain": [
       "\"To determine if it's too late to join a course, you'll need to consider several factors:\\n\\n1. **Course Enrollment Deadline:** Check the official website or contact the institution offering the course to find out the enrollment deadline.\\n\\n2. **Start Date:** Determine when the course has started or is about to start. Some courses allow late registrations within a certain time frame after the start date.\\n\\n3. **Course Type:** For online or self-paced courses, you might find more flexibility in joining later. In contrast, sequential, in-person courses might be stricter with deadlines.\\n\\n4. **Availability:** See if there are still spots available in the course if it's a limited-enrollment situation.\\n\\n5. **Catch-Up Work:** Consider whether you are prepared to catch up on any missed content or work if the course has already begun.\\n\\n6. **Communication:** Reach out to the course instructor or administrator to explain your situation and inquire about the possibility of joining late.\\n\\nIf you can provide more specific information about the course in question, such as its name or provider, I might be able to offer more tailored advice.\""
      ]
     },
     "execution_count": 16,
     "metadata": {},
     "output_type": "execute_result"
    }
   ],
   "source": [
    "response.choices[0].message.content"
   ]
  },
  {
   "cell_type": "markdown",
   "id": "a61cfa11-8d55-4fc2-86d8-b0bc90b80c5c",
   "metadata": {},
   "source": [
    "## Google Generative AI API"
   ]
  },
  {
   "cell_type": "code",
   "execution_count": 3,
   "id": "5926dac3-d62f-4ef2-993c-a518c862bb81",
   "metadata": {},
   "outputs": [],
   "source": [
    "import google.generativeai as genai"
   ]
  },
  {
   "cell_type": "code",
   "execution_count": 7,
   "id": "ad4a8d0b-76d4-46cc-86b4-785da06f2782",
   "metadata": {},
   "outputs": [],
   "source": [
    "GOOGLE_API_KEY = os.environ.get('GOOGLE_API_KEY')\n",
    "genai.configure(api_key=GOOGLE_API_KEY)"
   ]
  },
  {
   "cell_type": "code",
   "execution_count": 8,
   "id": "bc7eb919-0f7a-41bd-aa85-82d89f347db7",
   "metadata": {},
   "outputs": [
    {
     "name": "stdout",
     "output_type": "stream",
     "text": [
      "Available models for text generation:\n",
      "- models/gemini-1.0-pro-vision-latest\n",
      "- models/gemini-pro-vision\n",
      "- models/gemini-1.5-pro-latest\n",
      "- models/gemini-1.5-pro-001\n",
      "- models/gemini-1.5-pro-002\n",
      "- models/gemini-1.5-pro\n",
      "- models/gemini-1.5-flash-latest\n",
      "- models/gemini-1.5-flash-001\n",
      "- models/gemini-1.5-flash-001-tuning\n",
      "- models/gemini-1.5-flash\n",
      "- models/gemini-1.5-flash-002\n",
      "- models/gemini-1.5-flash-8b\n",
      "- models/gemini-1.5-flash-8b-001\n",
      "- models/gemini-1.5-flash-8b-latest\n",
      "- models/gemini-1.5-flash-8b-exp-0827\n",
      "- models/gemini-1.5-flash-8b-exp-0924\n",
      "- models/gemini-2.5-pro-exp-03-25\n",
      "- models/gemini-2.5-pro-preview-03-25\n",
      "- models/gemini-2.5-flash-preview-04-17\n",
      "- models/gemini-2.5-flash-preview-05-20\n",
      "- models/gemini-2.5-flash-preview-04-17-thinking\n",
      "- models/gemini-2.5-pro-preview-05-06\n",
      "- models/gemini-2.0-flash-exp\n",
      "- models/gemini-2.0-flash\n",
      "- models/gemini-2.0-flash-001\n",
      "- models/gemini-2.0-flash-lite-001\n",
      "- models/gemini-2.0-flash-lite\n",
      "- models/gemini-2.0-flash-lite-preview-02-05\n",
      "- models/gemini-2.0-flash-lite-preview\n",
      "- models/gemini-2.0-pro-exp\n",
      "- models/gemini-2.0-pro-exp-02-05\n",
      "- models/gemini-exp-1206\n",
      "- models/gemini-2.0-flash-thinking-exp-01-21\n",
      "- models/gemini-2.0-flash-thinking-exp\n",
      "- models/gemini-2.0-flash-thinking-exp-1219\n",
      "- models/gemini-2.5-flash-preview-tts\n",
      "- models/gemini-2.5-pro-preview-tts\n",
      "- models/learnlm-2.0-flash-experimental\n",
      "- models/gemma-3-1b-it\n",
      "- models/gemma-3-4b-it\n",
      "- models/gemma-3-12b-it\n",
      "- models/gemma-3-27b-it\n",
      "- models/gemma-3n-e4b-it\n",
      "\n",
      "Available models for embeddings:\n",
      "- models/embedding-001\n",
      "- models/text-embedding-004\n",
      "- models/gemini-embedding-exp-03-07\n",
      "- models/gemini-embedding-exp\n"
     ]
    }
   ],
   "source": [
    "print(\"Available models for text generation:\")\n",
    "for m in genai.list_models():\n",
    "  if 'generateContent' in m.supported_generation_methods:\n",
    "    print(f\"- {m.name}\")\n",
    "\n",
    "print(\"\\nAvailable models for embeddings:\")\n",
    "for m in genai.list_models():\n",
    "  if 'embedContent' in m.supported_generation_methods:\n",
    "    print(f\"- {m.name}\")"
   ]
  },
  {
   "cell_type": "code",
   "execution_count": 12,
   "id": "9326b84d-dbcd-4592-a37e-369fd3a80274",
   "metadata": {},
   "outputs": [
    {
     "name": "stdout",
     "output_type": "stream",
     "text": [
      "To give you the most accurate answer, I need a little more information!\n",
      "\n",
      "Could you tell me:\n",
      "\n",
      "1.  **Which course are you referring to?** (e.g., a specific university course, an online platform course like Coursera or Udemy, a local workshop, etc.)\n",
      "2.  **Do you know its start date or enrollment deadline?**\n",
      "\n",
      "Once I have that information, I might be able to help you find out, or at least point you in the right direction.\n",
      "\n",
      "**In general, here's how you can find out:**\n",
      "\n",
      "*   **Check the course website:** This is usually the best place for enrollment deadlines and late registration policies.\n",
      "*   **Contact the course provider/instructor:** Look for a contact email or phone number.\n",
      "*   **Look at the registration portal:** If it's an academic course, the university/college registration system will have this info.\n",
      "\n",
      "Let me know the details!\n"
     ]
    }
   ],
   "source": [
    "model = genai.GenerativeModel(\"gemini-2.5-pro-preview-05-06\")\n",
    "response = model.generate_content(prompt)\n",
    "print(response.text)"
   ]
  },
  {
   "cell_type": "code",
   "execution_count": null,
   "id": "4c53f678-6e2b-4f81-a65d-caf732f946f9",
   "metadata": {},
   "outputs": [],
   "source": []
  }
 ],
 "metadata": {
  "kernelspec": {
   "display_name": "Python 3 (ipykernel)",
   "language": "python",
   "name": "python3"
  },
  "language_info": {
   "codemirror_mode": {
    "name": "ipython",
    "version": 3
   },
   "file_extension": ".py",
   "mimetype": "text/x-python",
   "name": "python",
   "nbconvert_exporter": "python",
   "pygments_lexer": "ipython3",
   "version": "3.12.1"
  }
 },
 "nbformat": 4,
 "nbformat_minor": 5
}

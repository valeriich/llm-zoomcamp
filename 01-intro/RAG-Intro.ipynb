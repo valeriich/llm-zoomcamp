{
 "cells": [
  {
   "cell_type": "code",
   "execution_count": 34,
   "id": "c8bb8d80-c3d4-48ef-9828-794e70ec9d05",
   "metadata": {},
   "outputs": [
    {
     "name": "stderr",
     "output_type": "stream",
     "text": [
      "  % Total    % Received % Xferd  Average Speed   Time    Time     Time  Current\n",
      "                                 Dload  Upload   Total   Spent    Left  Speed\n",
      "\n",
      "  0     0    0     0    0     0      0      0 --:--:-- --:--:-- --:--:--     0\n",
      "100  4014  100  4014    0     0  10269      0 --:--:-- --:--:-- --:--:-- 10318\n"
     ]
    }
   ],
   "source": [
    "!curl -O \"https://raw.githubusercontent.com/alexeygrigorev/minsearch/main/minsearch.py\""
   ]
  },
  {
   "cell_type": "code",
   "execution_count": 35,
   "id": "7971067e-9fad-48ae-8706-72f854b25d83",
   "metadata": {},
   "outputs": [
    {
     "name": "stderr",
     "output_type": "stream",
     "text": [
      "C:\\Users\\chetv\\Documents\\llm-zoomcamp\\01-intro\\minsearch.py:9: UserWarning: Now minsearch is installable via pip: 'pip install minsearch'. Remove the downloaded file and re-install it with pip.\n",
      "  warnings.warn(\n"
     ]
    }
   ],
   "source": [
    "import minsearch"
   ]
  },
  {
   "cell_type": "code",
   "execution_count": 16,
   "id": "895180e1-e298-42e9-bf7c-b14e204c5355",
   "metadata": {},
   "outputs": [
    {
     "name": "stderr",
     "output_type": "stream",
     "text": [
      "  % Total    % Received % Xferd  Average Speed   Time    Time     Time  Current\n",
      "                                 Dload  Upload   Total   Spent    Left  Speed\n",
      "\n",
      "  0     0    0     0    0     0      0      0 --:--:-- --:--:-- --:--:--     0\n",
      "100  642k  100  642k    0     0  1339k      0 --:--:-- --:--:-- --:--:-- 1344k\n"
     ]
    }
   ],
   "source": [
    "!curl -O  \"https://raw.githubusercontent.com/DataTalksClub/llm-zoomcamp/refs/heads/main/01-intro/documents.json\""
   ]
  },
  {
   "cell_type": "code",
   "execution_count": 7,
   "id": "8eb29070-9080-4747-af4e-f2f9aab821bd",
   "metadata": {},
   "outputs": [],
   "source": [
    "import json\n",
    "import os"
   ]
  },
  {
   "cell_type": "code",
   "execution_count": 8,
   "id": "b478c913-66f3-4e78-8a35-8d9b21589f4d",
   "metadata": {},
   "outputs": [],
   "source": [
    "with open(\"documents.json\", \"rt\") as file:\n",
    "    docs_raw = json.load(file)\n",
    "\n",
    "documents = []\n",
    "\n",
    "for course_dict in docs_raw:\n",
    "    for doc in course_dict['documents']:\n",
    "        doc['course'] = course_dict['course']\n",
    "        documents.append(doc)"
   ]
  },
  {
   "cell_type": "code",
   "execution_count": 9,
   "id": "cd87da5f-92a9-4596-94b6-ffc43a05be0f",
   "metadata": {},
   "outputs": [
    {
     "data": {
      "text/plain": [
       "{'text': \"The purpose of this document is to capture frequently asked technical questions\\nThe exact day and hour of the course will be 15th Jan 2024 at 17h00. The course will start with the first  “Office Hours'' live.1\\nSubscribe to course public Google Calendar (it works from Desktop only).\\nRegister before the course starts using this link.\\nJoin the course Telegram channel with announcements.\\nDon’t forget to register in DataTalks.Club's Slack and join the channel.\",\n",
       " 'section': 'General course-related questions',\n",
       " 'question': 'Course - When will the course start?',\n",
       " 'course': 'data-engineering-zoomcamp'}"
      ]
     },
     "execution_count": 9,
     "metadata": {},
     "output_type": "execute_result"
    }
   ],
   "source": [
    "documents[0]"
   ]
  },
  {
   "cell_type": "markdown",
   "id": "88eebc3a-20d9-4b4d-9c89-ee3433d71c24",
   "metadata": {},
   "source": [
    "# Minsearch (custom search using `TFIdf vectorizer`"
   ]
  },
  {
   "cell_type": "code",
   "execution_count": 36,
   "id": "4d0f7107-9a6e-48be-bafc-5f3a86e96f86",
   "metadata": {},
   "outputs": [
    {
     "data": {
      "text/plain": [
       "<minsearch.Index at 0x1f3ad00e580>"
      ]
     },
     "execution_count": 36,
     "metadata": {},
     "output_type": "execute_result"
    }
   ],
   "source": [
    "# create index \n",
    "index = minsearch.Index(\n",
    "    text_fields=[\"question\", \"text\", \"section\"],\n",
    "    keyword_fields=['course']\n",
    ")\n",
    "\n",
    "index.fit(documents)"
   ]
  },
  {
   "cell_type": "code",
   "execution_count": 37,
   "id": "2bf204b4-d4b8-47cc-af51-f31c77c54ae6",
   "metadata": {},
   "outputs": [],
   "source": [
    "question = \"the course has already started, can i still enroll?\""
   ]
  },
  {
   "cell_type": "code",
   "execution_count": 38,
   "id": "9c1665dd-774f-4120-b93c-d11e93c681af",
   "metadata": {},
   "outputs": [],
   "source": [
    "# boosting some search fields\n",
    "boost = {\"question\": 3.0, \"section\": 0.5}\n",
    "\n",
    "# do the search\n",
    "results = index.search(\n",
    "    query=question,\n",
    "    boost_dict=boost,\n",
    "    num_results=5,\n",
    "    filter_dict={\"course\": \"data-engineering-zoomcamp\"}\n",
    ")    "
   ]
  },
  {
   "cell_type": "code",
   "execution_count": 39,
   "id": "ecc7f5da-3387-4357-a311-903af42e611d",
   "metadata": {},
   "outputs": [
    {
     "data": {
      "text/plain": [
       "[{'text': \"Yes, even if you don't register, you're still eligible to submit the homeworks.\\nBe aware, however, that there will be deadlines for turning in the final projects. So don't leave everything for the last minute.\",\n",
       "  'section': 'General course-related questions',\n",
       "  'question': 'Course - Can I still join the course after the start date?',\n",
       "  'course': 'data-engineering-zoomcamp'},\n",
       " {'text': 'Yes, we will keep all the materials after the course finishes, so you can follow the course at your own pace after it finishes.\\nYou can also continue looking at the homeworks and continue preparing for the next cohort. I guess you can also start working on your final capstone project.',\n",
       "  'section': 'General course-related questions',\n",
       "  'question': 'Course - Can I follow the course after it finishes?',\n",
       "  'course': 'data-engineering-zoomcamp'},\n",
       " {'text': \"The purpose of this document is to capture frequently asked technical questions\\nThe exact day and hour of the course will be 15th Jan 2024 at 17h00. The course will start with the first  “Office Hours'' live.1\\nSubscribe to course public Google Calendar (it works from Desktop only).\\nRegister before the course starts using this link.\\nJoin the course Telegram channel with announcements.\\nDon’t forget to register in DataTalks.Club's Slack and join the channel.\",\n",
       "  'section': 'General course-related questions',\n",
       "  'question': 'Course - When will the course start?',\n",
       "  'course': 'data-engineering-zoomcamp'},\n",
       " {'text': 'You can start by installing and setting up all the dependencies and requirements:\\nGoogle cloud account\\nGoogle Cloud SDK\\nPython 3 (installed with Anaconda)\\nTerraform\\nGit\\nLook over the prerequisites and syllabus to see if you are comfortable with these subjects.',\n",
       "  'section': 'General course-related questions',\n",
       "  'question': 'Course - What can I do before the course starts?',\n",
       "  'course': 'data-engineering-zoomcamp'},\n",
       " {'text': 'Yes, the slack channel remains open and you can ask questions there. But always sDocker containers exit code w search the channel first and second, check the FAQ (this document), most likely all your questions are already answered here.\\nYou can also tag the bot @ZoomcampQABot to help you conduct the search, but don’t rely on its answers 100%, it is pretty good though.',\n",
       "  'section': 'General course-related questions',\n",
       "  'question': 'Course - Can I get support if I take the course in the self-paced mode?',\n",
       "  'course': 'data-engineering-zoomcamp'}]"
      ]
     },
     "execution_count": 39,
     "metadata": {},
     "output_type": "execute_result"
    }
   ],
   "source": [
    "results"
   ]
  },
  {
   "cell_type": "code",
   "execution_count": 40,
   "id": "f47f2061-850e-4e8e-8770-c9ad057eb47f",
   "metadata": {},
   "outputs": [],
   "source": [
    "import openai\n",
    "from openai import OpenAI"
   ]
  },
  {
   "cell_type": "code",
   "execution_count": 41,
   "id": "f6e3f5fc-5b65-425b-9d7d-82eeb062b8d4",
   "metadata": {},
   "outputs": [],
   "source": [
    "OPENAI_API_KEY = os.environ['OPENAI_API_KEY']\n",
    "client = OpenAI(api_key=OPENAI_API_KEY)"
   ]
  },
  {
   "cell_type": "code",
   "execution_count": 42,
   "id": "691c7327-85e3-4856-9d3a-c18627c50603",
   "metadata": {},
   "outputs": [],
   "source": [
    "PROMPT_TEMPLATE = \"\"\"\n",
    "You're a course teaching assistant. Answer the QUESTION based on the CONTEXT.\n",
    "When answering the question, use only facts from the CONTEXT. If the CONTEXT doesn't contain the answer, output NONE.\n",
    "\n",
    "QUESTION: {question}\n",
    "\n",
    "CONTEXT:\n",
    "{context}\n",
    "\"\"\".strip()"
   ]
  },
  {
   "cell_type": "code",
   "execution_count": 43,
   "id": "bc4d11a7-7a4a-4a7d-8614-ec0bf94f76b7",
   "metadata": {},
   "outputs": [],
   "source": [
    "def build_context(search_results: list) -> str:\n",
    "    context = \"\"\n",
    "    \n",
    "    for doc in search_results:\n",
    "        context = context + f\"section: {doc['section']}\\nquestion: {doc['question']}\\nanswer: {doc['text']}\\n\\n\"\n",
    "    return context\n",
    "\n",
    "\n",
    "def search(question: str,\n",
    "           filter_dict={\"course\": \"data-engineering-zoomcamp\"},\n",
    "           num_results = 5,\n",
    "           boost={\"question\": 3.0, \"section\": 0.5})  -> list:\n",
    "\n",
    "    search_results = index.search(\n",
    "        query=question,\n",
    "        boost_dict=boost,\n",
    "        num_results=num_results,\n",
    "        filter_dict=filter_dict\n",
    "    )\n",
    "    return search_results\n",
    "\n",
    "\n",
    "def build_prompt(question: str) -> str: \n",
    "    search_results = search(question)\n",
    "    context = build_context(search_results)\n",
    "    return PROMPT_TEMPLATE.format(question=question, context=build_context(results))\n",
    "\n",
    "\n",
    "def llm(prompt: str) -> str:\n",
    "    response = client.chat.completions.create(\n",
    "                model='gpt-4o',\n",
    "                messages=[{\"role\": \"user\", \"content\": prompt}]\n",
    "        )\n",
    "    return response.choices[0].message.content"
   ]
  },
  {
   "cell_type": "code",
   "execution_count": 44,
   "id": "7dab7652-2292-4e3a-bb75-a776ea277db8",
   "metadata": {},
   "outputs": [
    {
     "name": "stdout",
     "output_type": "stream",
     "text": [
      "You're a course teaching assistant. Answer the QUESTION based on the CONTEXT.\n",
      "When answering the question, use only facts from the CONTEXT. If the CONTEXT doesn't contain the answer, output NONE.\n",
      "\n",
      "QUESTION: the course has already started, can i still enroll?\n",
      "\n",
      "CONTEXT:\n",
      "section: General course-related questions\n",
      "question: Course - Can I still join the course after the start date?\n",
      "answer: Yes, even if you don't register, you're still eligible to submit the homeworks.\n",
      "Be aware, however, that there will be deadlines for turning in the final projects. So don't leave everything for the last minute.\n",
      "\n",
      "section: General course-related questions\n",
      "question: Course - Can I follow the course after it finishes?\n",
      "answer: Yes, we will keep all the materials after the course finishes, so you can follow the course at your own pace after it finishes.\n",
      "You can also continue looking at the homeworks and continue preparing for the next cohort. I guess you can also start working on your final capstone project.\n",
      "\n",
      "section: General course-related questions\n",
      "question: Course - When will the course start?\n",
      "answer: The purpose of this document is to capture frequently asked technical questions\n",
      "The exact day and hour of the course will be 15th Jan 2024 at 17h00. The course will start with the first  “Office Hours'' live.1\n",
      "Subscribe to course public Google Calendar (it works from Desktop only).\n",
      "Register before the course starts using this link.\n",
      "Join the course Telegram channel with announcements.\n",
      "Don’t forget to register in DataTalks.Club's Slack and join the channel.\n",
      "\n",
      "section: General course-related questions\n",
      "question: Course - What can I do before the course starts?\n",
      "answer: You can start by installing and setting up all the dependencies and requirements:\n",
      "Google cloud account\n",
      "Google Cloud SDK\n",
      "Python 3 (installed with Anaconda)\n",
      "Terraform\n",
      "Git\n",
      "Look over the prerequisites and syllabus to see if you are comfortable with these subjects.\n",
      "\n",
      "section: General course-related questions\n",
      "question: Course - Can I get support if I take the course in the self-paced mode?\n",
      "answer: Yes, the slack channel remains open and you can ask questions there. But always sDocker containers exit code w search the channel first and second, check the FAQ (this document), most likely all your questions are already answered here.\n",
      "You can also tag the bot @ZoomcampQABot to help you conduct the search, but don’t rely on its answers 100%, it is pretty good though.\n",
      "\n",
      "\n"
     ]
    }
   ],
   "source": [
    "print(build_prompt(question))"
   ]
  },
  {
   "cell_type": "code",
   "execution_count": 45,
   "id": "52ca7975-c52a-4d33-977a-dec8f99d87e0",
   "metadata": {},
   "outputs": [],
   "source": [
    "def rag(query: str) -> str:\n",
    "    prompt = build_prompt(query)\n",
    "    answer = llm(prompt)\n",
    "    return answer"
   ]
  },
  {
   "cell_type": "code",
   "execution_count": 67,
   "id": "c79613d3-5e45-4539-8596-78e344785154",
   "metadata": {},
   "outputs": [
    {
     "data": {
      "text/plain": [
       "'Yes, even if the course has already started, you can still enroll and submit the homeworks. However, be aware of the deadlines for turning in the final projects.'"
      ]
     },
     "execution_count": 67,
     "metadata": {},
     "output_type": "execute_result"
    }
   ],
   "source": [
    "rag(question)"
   ]
  },
  {
   "cell_type": "code",
   "execution_count": 68,
   "id": "00ce85b0-c497-4c77-a51b-43a042e13809",
   "metadata": {},
   "outputs": [
    {
     "data": {
      "text/plain": [
       "'NONE'"
      ]
     },
     "execution_count": 68,
     "metadata": {},
     "output_type": "execute_result"
    }
   ],
   "source": [
    "rag(\"how do i run kafka?\")"
   ]
  },
  {
   "cell_type": "markdown",
   "id": "3c5fcf41-c22c-4de9-92f8-e92c3d6cee7d",
   "metadata": {},
   "source": [
    "# Elasticsearch\n",
    "1. Run `elasticsearch` image with docker\n",
    "2. Initialize client through forwarded port\n",
    "3. Index settings\n",
    "4. Run all docs to get them indexed\n",
    "5. try some query"
   ]
  },
  {
   "cell_type": "code",
   "execution_count": 1,
   "id": "7d8290bc-12bb-4955-8358-5df85d84e371",
   "metadata": {},
   "outputs": [],
   "source": [
    "from elasticsearch import Elasticsearch"
   ]
  },
  {
   "cell_type": "code",
   "execution_count": 2,
   "id": "ff20fb68-4be1-4ea7-a354-941ef53b6adb",
   "metadata": {},
   "outputs": [
    {
     "data": {
      "text/plain": [
       "(8, 4, 3)"
      ]
     },
     "execution_count": 2,
     "metadata": {},
     "output_type": "execute_result"
    }
   ],
   "source": [
    "import elasticsearch\n",
    "\n",
    "elasticsearch.__version__"
   ]
  },
  {
   "cell_type": "code",
   "execution_count": 3,
   "id": "0aa09c62-4af9-4bf0-aabe-4458826f651e",
   "metadata": {},
   "outputs": [],
   "source": [
    "# initialize Elasticsearch client\n",
    "es_client = Elasticsearch(\"http://localhost:9200\")"
   ]
  },
  {
   "cell_type": "code",
   "execution_count": 23,
   "id": "29ecce3e-9978-45d0-b680-d3ddb1a4f68a",
   "metadata": {},
   "outputs": [],
   "source": [
    "# index settings\n",
    "index_settings = {\n",
    "    \"settings\": {\n",
    "        \"number_of_shards\": 1,\n",
    "        \"number_of_replicas\": 0\n",
    "    },\n",
    "    \"mappings\": {\n",
    "        \"properties\": {\n",
    "            \"text\": {\"type\": \"text\"},\n",
    "            \"section\": {\"type\": \"text\"},\n",
    "            \"question\": {\"type\": \"text\"},\n",
    "            \"course\": {\"type\": \"keyword\"} \n",
    "        }\n",
    "    }\n",
    "}\n",
    "\n",
    "# index name to call for\n",
    "index_name = \"course-questions\""
   ]
  },
  {
   "cell_type": "code",
   "execution_count": 25,
   "id": "9850cda0-ec7a-48f8-b8af-a5cba3e3b9d3",
   "metadata": {},
   "outputs": [],
   "source": [
    "# create index\n",
    "es_client.indices.create(index=index_name, body=index_settings)"
   ]
  },
  {
   "cell_type": "code",
   "execution_count": 13,
   "id": "7705933c-d52e-43c9-a40c-35f9873fe9b8",
   "metadata": {},
   "outputs": [
    {
     "name": "stderr",
     "output_type": "stream",
     "text": [
      "100%|████████████████████████████████████████████████| 948/948 [00:53<00:00, 17.75it/s]\n"
     ]
    }
   ],
   "source": [
    "from tqdm import tqdm\n",
    "\n",
    "# index documents one by one\n",
    "for doc in tqdm(documents):\n",
    "    es_client.index(index=index_name, document=doc)"
   ]
  },
  {
   "cell_type": "code",
   "execution_count": 26,
   "id": "994534c4-5a4e-4fdb-a2b1-5a569ae6409b",
   "metadata": {},
   "outputs": [],
   "source": [
    "def elastic_search(query: str) -> list:\n",
    "    # elastic query format\n",
    "    search_query = {\n",
    "        \"size\": 5, # numebr of results to return\n",
    "        \"query\": {\n",
    "            \"bool\": {\n",
    "                \"must\": {\n",
    "                    \"multi_match\": {\n",
    "                        \"query\": question, # our question\n",
    "                        \"fields\": [\"question^3\", \"text\", \"section\"], # fields to check\n",
    "                        \"type\": \"best_fields\"\n",
    "                    }\n",
    "                },\n",
    "                \"filter\": { # filtering in only data engineering zoomcamp\n",
    "                    \"term\": {\n",
    "                        \"course\": \"data-engineering-zoomcamp\"\n",
    "                    }\n",
    "                }\n",
    "            }\n",
    "        }\n",
    "    }\n",
    "    response = es_client.search(index=index_name, body=search_query)\n",
    "    result_docs = []\n",
    "\n",
    "    for hit in response['hits']['hits']:\n",
    "        result_docs.append(hit['_source'])\n",
    "    \n",
    "    return result_docs"
   ]
  },
  {
   "cell_type": "code",
   "execution_count": 27,
   "id": "7d7583fb-8c45-488a-8df8-161cdaa4dd04",
   "metadata": {},
   "outputs": [
    {
     "name": "stderr",
     "output_type": "stream",
     "text": [
      "C:\\Users\\chetv\\AppData\\Local\\Temp\\ipykernel_19412\\2328966626.py:21: DeprecationWarning: The 'body' parameter is deprecated and will be removed in a future version. Instead use individual parameters.\n",
      "  response = es_client.search(index=index_name, body=search_query)\n"
     ]
    },
    {
     "data": {
      "text/plain": [
       "[{'text': \"Yes, even if you don't register, you're still eligible to submit the homeworks.\\nBe aware, however, that there will be deadlines for turning in the final projects. So don't leave everything for the last minute.\",\n",
       "  'section': 'General course-related questions',\n",
       "  'question': 'Course - Can I still join the course after the start date?',\n",
       "  'course': 'data-engineering-zoomcamp'},\n",
       " {'text': \"Yes, even if you don't register, you're still eligible to submit the homeworks.\\nBe aware, however, that there will be deadlines for turning in the final projects. So don't leave everything for the last minute.\",\n",
       "  'section': 'General course-related questions',\n",
       "  'question': 'Course - Can I still join the course after the start date?',\n",
       "  'course': 'data-engineering-zoomcamp'},\n",
       " {'text': 'You can start by installing and setting up all the dependencies and requirements:\\nGoogle cloud account\\nGoogle Cloud SDK\\nPython 3 (installed with Anaconda)\\nTerraform\\nGit\\nLook over the prerequisites and syllabus to see if you are comfortable with these subjects.',\n",
       "  'section': 'General course-related questions',\n",
       "  'question': 'Course - What can I do before the course starts?',\n",
       "  'course': 'data-engineering-zoomcamp'},\n",
       " {'text': 'Yes, we will keep all the materials after the course finishes, so you can follow the course at your own pace after it finishes.\\nYou can also continue looking at the homeworks and continue preparing for the next cohort. I guess you can also start working on your final capstone project.',\n",
       "  'section': 'General course-related questions',\n",
       "  'question': 'Course - Can I follow the course after it finishes?',\n",
       "  'course': 'data-engineering-zoomcamp'},\n",
       " {'text': 'You can start by installing and setting up all the dependencies and requirements:\\nGoogle cloud account\\nGoogle Cloud SDK\\nPython 3 (installed with Anaconda)\\nTerraform\\nGit\\nLook over the prerequisites and syllabus to see if you are comfortable with these subjects.',\n",
       "  'section': 'General course-related questions',\n",
       "  'question': 'Course - What can I do before the course starts?',\n",
       "  'course': 'data-engineering-zoomcamp'}]"
      ]
     },
     "execution_count": 27,
     "metadata": {},
     "output_type": "execute_result"
    }
   ],
   "source": [
    "question = \"the course has already started, can i still enroll?\"\n",
    "elastic_search(question)"
   ]
  },
  {
   "cell_type": "code",
   "execution_count": 46,
   "id": "5a2855c7-a43e-4b4a-994c-45d53a7a56dc",
   "metadata": {},
   "outputs": [],
   "source": [
    "def build_prompt_elastic(question: str) -> str: \n",
    "    search_results = elastic_search(question)\n",
    "    context = build_context(search_results)\n",
    "    return PROMPT_TEMPLATE.format(question=question, context=build_context(results))\n",
    "\n",
    "def rag_elastic(query: str) -> str:\n",
    "    prompt = build_prompt_elastic(query)\n",
    "    answer = llm(prompt)\n",
    "    return answer"
   ]
  },
  {
   "cell_type": "code",
   "execution_count": 47,
   "id": "a21f9079-b264-4bc1-b171-d824f32d6384",
   "metadata": {},
   "outputs": [
    {
     "name": "stderr",
     "output_type": "stream",
     "text": [
      "C:\\Users\\chetv\\AppData\\Local\\Temp\\ipykernel_19412\\2328966626.py:21: DeprecationWarning: The 'body' parameter is deprecated and will be removed in a future version. Instead use individual parameters.\n",
      "  response = es_client.search(index=index_name, body=search_query)\n"
     ]
    },
    {
     "data": {
      "text/plain": [
       "\"Yes, you can still enroll in the course after it has started. You are eligible to submit the homework even if you register late. However, keep in mind that there will be deadlines for submitting the final projects, so it's advisable not to delay everything until the last minute.\""
      ]
     },
     "execution_count": 47,
     "metadata": {},
     "output_type": "execute_result"
    }
   ],
   "source": [
    "rag_elastic(question)"
   ]
  },
  {
   "cell_type": "code",
   "execution_count": null,
   "id": "199edb2b-6704-4c1a-bc1c-95e5a6d65858",
   "metadata": {},
   "outputs": [],
   "source": []
  }
 ],
 "metadata": {
  "kernelspec": {
   "display_name": "Python 3 (ipykernel)",
   "language": "python",
   "name": "python3"
  },
  "language_info": {
   "codemirror_mode": {
    "name": "ipython",
    "version": 3
   },
   "file_extension": ".py",
   "mimetype": "text/x-python",
   "name": "python",
   "nbconvert_exporter": "python",
   "pygments_lexer": "ipython3",
   "version": "3.9.18"
  }
 },
 "nbformat": 4,
 "nbformat_minor": 5
}

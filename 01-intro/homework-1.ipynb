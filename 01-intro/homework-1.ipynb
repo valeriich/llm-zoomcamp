{
 "cells": [
  {
   "cell_type": "markdown",
   "id": "5c77f98c-cd6e-4d0c-ab09-c8372a45b73d",
   "metadata": {},
   "source": [
    "# Q1. Running Elastic\n",
    "Run Elastic Search 8.17.6, and get the cluster information. If you run it on localhost, this is how you do it:\n",
    "```\n",
    "curl localhost:9200\n",
    "```\n",
    "What's the `version.build_hash` value?"
   ]
  },
  {
   "cell_type": "code",
   "execution_count": 1,
   "id": "a1b7902e-2ea4-4491-b384-0671bccc5b7b",
   "metadata": {},
   "outputs": [
    {
     "name": "stdout",
     "output_type": "stream",
     "text": [
      "{\n",
      "  \"name\" : \"94be89505406\",\n",
      "  \"cluster_name\" : \"docker-cluster\",\n",
      "  \"cluster_uuid\" : \"0C_JKH3xQAeZUiarpz0UkQ\",\n",
      "  \"version\" : {\n",
      "    \"number\" : \"8.17.6\",\n",
      "    \"build_flavor\" : \"default\",\n",
      "    \"build_type\" : \"docker\",\n",
      "    \"build_hash\" : \"dbcbbbd0bc4924cfeb28929dc05d82d662c527b7\",\n",
      "    \"build_date\" : \"2025-04-30T14:07:12.231372970Z\",\n",
      "    \"build_snapshot\" : false,\n",
      "    \"lucene_version\" : \"9.12.0\",\n",
      "    \"minimum_wire_compatibility_version\" : \"7.17.0\",\n",
      "    \"minimum_index_compatibility_version\" : \"7.0.0\"\n",
      "  },\n",
      "  \"tagline\" : \"You Know, for Search\"\n",
      "}\n"
     ]
    },
    {
     "name": "stderr",
     "output_type": "stream",
     "text": [
      "  % Total    % Received % Xferd  Average Speed   Time    Time     Time  Current\n",
      "                                 Dload  Upload   Total   Spent    Left  Speed\n",
      "\n",
      "  0     0    0     0    0     0      0      0 --:--:-- --:--:-- --:--:--     0\n",
      "100   541  100   541    0     0  20587      0 --:--:-- --:--:-- --:--:-- 20807\n"
     ]
    }
   ],
   "source": [
    "!curl localhost:9200"
   ]
  },
  {
   "cell_type": "markdown",
   "id": "4526771a-631a-4762-aa7a-0eb716fb1099",
   "metadata": {},
   "source": [
    "Answer: `dbcbbbd0bc4924cfeb28929dc05d82d662c527b7`"
   ]
  },
  {
   "cell_type": "markdown",
   "id": "ed5b18b6-f30a-4912-886a-947a77cb126c",
   "metadata": {},
   "source": [
    "# Getting the data"
   ]
  },
  {
   "cell_type": "code",
   "execution_count": 2,
   "id": "f325d53e-49ea-4f03-9593-ed5a3d3638a8",
   "metadata": {},
   "outputs": [],
   "source": [
    "import requests \n",
    "\n",
    "docs_url = 'https://github.com/DataTalksClub/llm-zoomcamp/blob/main/01-intro/documents.json?raw=1'\n",
    "docs_response = requests.get(docs_url)\n",
    "documents_raw = docs_response.json()\n",
    "\n",
    "documents = []\n",
    "\n",
    "for course in documents_raw:\n",
    "    course_name = course['course']\n",
    "\n",
    "    for doc in course['documents']:\n",
    "        doc['course'] = course_name\n",
    "        documents.append(doc)"
   ]
  },
  {
   "cell_type": "markdown",
   "id": "a86fb384-42b4-42df-9780-d4cab6a534fb",
   "metadata": {},
   "source": [
    "# Q2. Index the data\n",
    "\n",
    "Which function do you use for adding your data to elastic?\n",
    "\n",
    "Answer: `index`"
   ]
  },
  {
   "cell_type": "code",
   "execution_count": 3,
   "id": "48a91f5e-b1a5-4500-9a17-84a735f075a1",
   "metadata": {},
   "outputs": [],
   "source": [
    "from elasticsearch import Elasticsearch"
   ]
  },
  {
   "cell_type": "code",
   "execution_count": 4,
   "id": "732ba663-b472-4475-ad5f-5d5a71a3ac85",
   "metadata": {},
   "outputs": [],
   "source": [
    "es_client = Elasticsearch(\"http://localhost:9200\")"
   ]
  },
  {
   "cell_type": "code",
   "execution_count": 6,
   "id": "63afd902-6c65-40fc-8069-095d9cfbcebe",
   "metadata": {},
   "outputs": [
    {
     "name": "stderr",
     "output_type": "stream",
     "text": [
      "C:\\Users\\chetv\\AppData\\Local\\Temp\\ipykernel_41548\\2384178953.py:19: DeprecationWarning: The 'body' parameter is deprecated and will be removed in a future version. Instead use individual parameters.\n",
      "  es_client.indices.create(index=index_name, body=index_settings)\n"
     ]
    },
    {
     "data": {
      "text/plain": [
       "ObjectApiResponse({'acknowledged': True, 'shards_acknowledged': True, 'index': 'course-homework-1'})"
      ]
     },
     "execution_count": 6,
     "metadata": {},
     "output_type": "execute_result"
    }
   ],
   "source": [
    "index_settings = {\n",
    "    \"settings\": {\n",
    "        \"number_of_shards\": 1,\n",
    "        \"number_of_replicas\": 0\n",
    "    },\n",
    "    \"mappings\": {\n",
    "        \"properties\": {\n",
    "            \"text\": {\"type\": \"text\"},\n",
    "            \"section\": {\"type\": \"text\"},\n",
    "            \"question\": {\"type\": \"text\"},\n",
    "            \"course\": {\"type\": \"keyword\"} \n",
    "        }\n",
    "    }\n",
    "}\n",
    "\n",
    "index_name = \"course-homework-1\"\n",
    "\n",
    "# create index\n",
    "es_client.indices.create(index=index_name, body=index_settings)"
   ]
  },
  {
   "cell_type": "code",
   "execution_count": 7,
   "id": "20cee006-a4e6-428d-b4bd-da62163d5a60",
   "metadata": {},
   "outputs": [
    {
     "name": "stderr",
     "output_type": "stream",
     "text": [
      "100%|████████████████████████████████████████████████| 948/948 [00:54<00:00, 17.29it/s]\n"
     ]
    }
   ],
   "source": [
    "from tqdm import tqdm\n",
    "\n",
    "for doc in tqdm(documents):\n",
    "    es_client.index(index=index_name, document=doc)"
   ]
  },
  {
   "cell_type": "markdown",
   "id": "baebfec5-7029-4717-8acc-724a4138ce38",
   "metadata": {},
   "source": [
    "# Q3. Searching\n",
    "\n",
    "Now let's search in our index.\n",
    "\n",
    "We will execute a query \"How do execute a command on a Kubernetes pod?\".\n",
    "\n",
    "Use only `question` and `text` fields and give question a boost of 4, and use \"type\": `\"best_fields\"`.\n",
    "\n",
    "What's the score for the top ranking result?\n",
    "\n",
    "Answer: 44.5"
   ]
  },
  {
   "cell_type": "code",
   "execution_count": 8,
   "id": "13f37009-4969-431a-9288-f0dd250d4182",
   "metadata": {},
   "outputs": [],
   "source": [
    "query = \"How do execute a command on a Kubernetes pod?\""
   ]
  },
  {
   "cell_type": "code",
   "execution_count": 16,
   "id": "c23bd784-9174-4c8e-8748-78b3abdfda5d",
   "metadata": {},
   "outputs": [],
   "source": [
    "search_query = {\n",
    "    \"size\": 5, \n",
    "    \"query\": {\n",
    "                \"multi_match\": {\n",
    "                    \"query\": query,\n",
    "                    \"fields\": [\"question^4\", \"text\"], \n",
    "                    \"type\": \"best_fields\"\n",
    "            }\n",
    "        }\n",
    "    }"
   ]
  },
  {
   "cell_type": "code",
   "execution_count": 17,
   "id": "abd33d02-1931-4aab-9767-a56a44c61b07",
   "metadata": {},
   "outputs": [
    {
     "name": "stderr",
     "output_type": "stream",
     "text": [
      "C:\\Users\\chetv\\AppData\\Local\\Temp\\ipykernel_41548\\449040615.py:1: DeprecationWarning: The 'body' parameter is deprecated and will be removed in a future version. Instead use individual parameters.\n",
      "  response = es_client.search(index=index_name, body=search_query)\n"
     ]
    }
   ],
   "source": [
    "response = es_client.search(index=index_name, body=search_query)"
   ]
  },
  {
   "cell_type": "code",
   "execution_count": 22,
   "id": "9bc1c91c-a287-4384-b0cc-795436bfec2a",
   "metadata": {},
   "outputs": [
    {
     "data": {
      "text/plain": [
       "44.50556"
      ]
     },
     "execution_count": 22,
     "metadata": {},
     "output_type": "execute_result"
    }
   ],
   "source": [
    "response['hits']['max_score']"
   ]
  },
  {
   "cell_type": "markdown",
   "id": "0611697f-1d7b-4b1e-863c-b48e055c0474",
   "metadata": {},
   "source": [
    "# Q4. Filtering\n",
    "Now ask a different question: \"How do copy a file to a Docker container?\".\n",
    "\n",
    "This time we are only interested in questions from `machine-learning-zoomcamp`.\n",
    "\n",
    "Return 3 results. What's the 3rd question returned by the search engine?\n",
    "\n",
    "\n",
    "Answer: `'How do I copy files from a different folder into docker container’s working directory?'`"
   ]
  },
  {
   "cell_type": "code",
   "execution_count": 60,
   "id": "fc09d403-5a01-44dd-8eab-77d67275dd21",
   "metadata": {},
   "outputs": [],
   "source": [
    "question = \"How do copy a file to a Docker container?\"\n",
    "\n",
    "search_query = {\n",
    "        \"size\": 3,\n",
    "        \"query\": {\n",
    "            \"bool\": {\n",
    "                \"must\": {\n",
    "                    \"multi_match\": {\n",
    "                        \"query\": question, \n",
    "                        \"fields\": [\"question^4\", \"text\"], \n",
    "                        \"type\": \"best_fields\"\n",
    "                    }\n",
    "                },\n",
    "                \"filter\": { \n",
    "                    \"term\": {\n",
    "                        \"course\": \"machine-learning-zoomcamp\"\n",
    "                    }\n",
    "                }\n",
    "            }\n",
    "        }\n",
    "    }"
   ]
  },
  {
   "cell_type": "code",
   "execution_count": 61,
   "id": "408dc68b-e0cc-40cb-9bf9-a2454b32b518",
   "metadata": {},
   "outputs": [
    {
     "name": "stderr",
     "output_type": "stream",
     "text": [
      "C:\\Users\\chetv\\AppData\\Local\\Temp\\ipykernel_41548\\449040615.py:1: DeprecationWarning: The 'body' parameter is deprecated and will be removed in a future version. Instead use individual parameters.\n",
      "  response = es_client.search(index=index_name, body=search_query)\n"
     ]
    }
   ],
   "source": [
    "response = es_client.search(index=index_name, body=search_query)"
   ]
  },
  {
   "cell_type": "code",
   "execution_count": 62,
   "id": "a2f61de9-495a-4978-b8f6-5f120e932ec2",
   "metadata": {},
   "outputs": [
    {
     "data": {
      "text/plain": [
       "'How do I copy files from a different folder into docker container’s working directory?'"
      ]
     },
     "execution_count": 62,
     "metadata": {},
     "output_type": "execute_result"
    }
   ],
   "source": [
    "response['hits']['hits'][-1]['_source']['question']"
   ]
  },
  {
   "cell_type": "markdown",
   "id": "f21f6cbe-c3b7-477f-adeb-37dc5869ab51",
   "metadata": {},
   "source": [
    "# Q5. Building a prompt\n",
    "Now we're ready to build a prompt to send to an LLM.\n",
    "\n",
    "Take the records returned from Elasticsearch in Q4 and use this template to build the context. \n",
    "```\n",
    "context_template = \"\"\"\n",
    "    Q: {question}\n",
    "    A: {text}\n",
    "\"\"\".strip()\n",
    "```\n",
    "\n",
    "Separate context entries by two linebreaks (\\n\\n)"
   ]
  },
  {
   "cell_type": "code",
   "execution_count": 63,
   "id": "3e3c19b4-5295-4950-b1b2-e5bb999ec001",
   "metadata": {},
   "outputs": [],
   "source": [
    "# get documents from search results\n",
    "search_results_docs = []\n",
    "\n",
    "for hit in response['hits']['hits']:\n",
    "    search_results_docs.append(hit['_source'])"
   ]
  },
  {
   "cell_type": "code",
   "execution_count": 64,
   "id": "bc65b827-bd00-4d47-87e4-0ffe6822cc71",
   "metadata": {},
   "outputs": [],
   "source": [
    "# template for context\n",
    "context_template = \"\"\"\n",
    "Q: {question}\n",
    "A: {text}\n",
    "\"\"\".strip()"
   ]
  },
  {
   "cell_type": "code",
   "execution_count": 65,
   "id": "152e16a9-9d01-45f7-985e-20762577d39d",
   "metadata": {},
   "outputs": [],
   "source": [
    "# function to create a prompt from search results docs\n",
    "def build_context(search_results: list) -> str:\n",
    "    \n",
    "    context_elements = []\n",
    "    \n",
    "    for doc in search_results:\n",
    "        context = context_template.format(question=doc['question'], text=doc['text'])\n",
    "        context_elements.append(context)\n",
    "    \n",
    "    return \"\\n\\n\".join(context_elements)"
   ]
  },
  {
   "cell_type": "code",
   "execution_count": 66,
   "id": "d4c288c0-be0e-47c2-ac13-b039d30547d1",
   "metadata": {},
   "outputs": [
    {
     "name": "stdout",
     "output_type": "stream",
     "text": [
      "Q: How do I debug a docker container?\n",
      "A: Launch the container image in interactive mode and overriding the entrypoint, so that it starts a bash command.\n",
      "docker run -it --entrypoint bash <image>\n",
      "If the container is already running, execute a command in the specific container:\n",
      "docker ps (find the container-id)\n",
      "docker exec -it <container-id> bash\n",
      "(Marcos MJD)\n",
      "\n",
      "Q: How do I copy files from my local machine to docker container?\n",
      "A: You can copy files from your local machine into a Docker container using the docker cp command. Here's how to do it:\n",
      "To copy a file or directory from your local machine into a running Docker container, you can use the `docker cp command`. The basic syntax is as follows:\n",
      "docker cp /path/to/local/file_or_directory container_id:/path/in/container\n",
      "Hrithik Kumar Advani\n",
      "\n",
      "Q: How do I copy files from a different folder into docker container’s working directory?\n",
      "A: You can copy files from your local machine into a Docker container using the docker cp command. Here's how to do it:\n",
      "In the Dockerfile, you can provide the folder containing the files that you want to copy over. The basic syntax is as follows:\n",
      "COPY [\"src/predict.py\", \"models/xgb_model.bin\", \"./\"]\t\t\t\t\t\t\t\t\t\t\tGopakumar Gopinathan\n"
     ]
    }
   ],
   "source": [
    "context = build_context(search_results_docs)\n",
    "print(context)"
   ]
  },
  {
   "cell_type": "markdown",
   "id": "022cb13a-a312-4a8f-9c67-00926b0c2296",
   "metadata": {},
   "source": [
    "Now use the context you just created along with the \"How do I execute a command in a running docker container?\" question to construct a prompt using the template below:\n",
    "```\n",
    "prompt_template = \"\"\"\n",
    "You're a course teaching assistant. Answer the QUESTION based on the CONTEXT from the FAQ database.\n",
    "Use only the facts from the CONTEXT when answering the QUESTION.\n",
    "\n",
    "QUESTION: {question}\n",
    "\n",
    "CONTEXT:\n",
    "{context}\n",
    "\"\"\".strip()\n",
    "```\n",
    "What's the length of the resulting prompt? (use the len function)"
   ]
  },
  {
   "cell_type": "code",
   "execution_count": 67,
   "id": "19c1412e-414e-43b1-8347-3432840a507e",
   "metadata": {},
   "outputs": [],
   "source": [
    "question = \"How do I execute a command in a running docker container?\""
   ]
  },
  {
   "cell_type": "code",
   "execution_count": 68,
   "id": "2abd6e3d-15c5-4d07-b27f-77bb471e07e7",
   "metadata": {},
   "outputs": [],
   "source": [
    "prompt_template = \"\"\"\n",
    "You're a course teaching assistant. Answer the QUESTION based on the CONTEXT from the FAQ database.\n",
    "Use only the facts from the CONTEXT when answering the QUESTION.\n",
    "\n",
    "QUESTION: {question}\n",
    "\n",
    "CONTEXT:\n",
    "{context}\n",
    "\"\"\".strip()"
   ]
  },
  {
   "cell_type": "code",
   "execution_count": 69,
   "id": "2c430bb4-af7b-4a77-b9f7-6d476a3126b9",
   "metadata": {},
   "outputs": [],
   "source": [
    "prompt = prompt_template.format(question=question, context=context)"
   ]
  },
  {
   "cell_type": "code",
   "execution_count": 70,
   "id": "f92115e6-1ec0-4363-b68b-5958416a25e4",
   "metadata": {},
   "outputs": [
    {
     "data": {
      "text/plain": [
       "1462"
      ]
     },
     "execution_count": 70,
     "metadata": {},
     "output_type": "execute_result"
    }
   ],
   "source": [
    "len(prompt)"
   ]
  },
  {
   "cell_type": "markdown",
   "id": "86d6e57f-4388-47fa-9706-384aef5bb208",
   "metadata": {},
   "source": [
    "# Q6. Tokens\n",
    "When we use the OpenAI Platform, we're charged by the number of tokens we send in our prompt and receive in the response.\n",
    "\n",
    "The OpenAI python package uses tiktoken for tokenization:\n",
    "```\n",
    "pip install tiktoken\n",
    "```\n",
    "Let's calculate the number of tokens in our query:"
   ]
  },
  {
   "cell_type": "code",
   "execution_count": 72,
   "id": "aaf56f41-fce4-4bfc-b590-d2bd9d224133",
   "metadata": {},
   "outputs": [],
   "source": [
    "import tiktoken\n",
    "\n",
    "encoding = tiktoken.encoding_for_model(\"gpt-4o\")"
   ]
  },
  {
   "cell_type": "code",
   "execution_count": 73,
   "id": "7b7e6d31-5c11-43b4-a9b7-4e4a32fe0953",
   "metadata": {},
   "outputs": [
    {
     "name": "stdout",
     "output_type": "stream",
     "text": [
      "322\n"
     ]
    }
   ],
   "source": [
    "tokens = encoding.encode(prompt)\n",
    "print(len(tokens))"
   ]
  },
  {
   "cell_type": "markdown",
   "id": "39e4eb2f-8550-4275-a10c-7e8df0b0705c",
   "metadata": {},
   "source": [
    "# Bonus: generating the answer (ungraded)\n",
    "Let's send the prompt to OpenAI. What's the response?"
   ]
  },
  {
   "cell_type": "code",
   "execution_count": 75,
   "id": "ca8fefd1-ea40-4670-9c49-3e0b876f5ef8",
   "metadata": {},
   "outputs": [],
   "source": [
    "import openai\n",
    "from openai import OpenAI\n",
    "import os\n",
    "\n",
    "OPENAI_API_KEY = os.environ['OPENAI_API_KEY']\n",
    "client = OpenAI(api_key=OPENAI_API_KEY)"
   ]
  },
  {
   "cell_type": "code",
   "execution_count": 77,
   "id": "01b82110-285b-4630-a61d-f1a11ed9eff4",
   "metadata": {},
   "outputs": [],
   "source": [
    "response = client.chat.completions.create(\n",
    "                model='gpt-4o',\n",
    "                messages=[{\"role\": \"user\", \"content\": prompt}]\n",
    "        )"
   ]
  },
  {
   "cell_type": "code",
   "execution_count": 90,
   "id": "e1269700-0e5e-4c0d-ac15-b787711da1bb",
   "metadata": {},
   "outputs": [
    {
     "data": {
      "text/plain": [
       "'To execute a command in a running Docker container, you can use the `docker exec` command. First, find the container ID by using `docker ps`. Then, execute the command in the specific container using the following syntax:\\n\\n```\\ndocker exec -it <container-id> <command>\\n```\\n\\nFor example, to start a bash session in the container, you would use:\\n\\n```\\ndocker exec -it <container-id> bash\\n```'"
      ]
     },
     "execution_count": 90,
     "metadata": {},
     "output_type": "execute_result"
    }
   ],
   "source": [
    "response.choices[0].message.content"
   ]
  },
  {
   "cell_type": "markdown",
   "id": "c800ceb7-5b96-415c-8b94-8e7701c2bc2c",
   "metadata": {},
   "source": [
    "# Bonus: calculating the costs (ungraded)\n",
    "Suppose that on average per request we send 150 tokens and receive back 250 tokens.\n",
    "\n",
    "How much will it cost to run 1000 requests?"
   ]
  },
  {
   "cell_type": "markdown",
   "id": "a762e428-d2f0-4b45-a650-4be7a566ed4f",
   "metadata": {},
   "source": [
    "Current costs (June, 2025):\n",
    "gpt-4o (per 1M tokens) \n",
    "\n",
    "Input: $2.50\n",
    "\n",
    "Output: $10.00"
   ]
  },
  {
   "cell_type": "code",
   "execution_count": 108,
   "id": "a1e5329f-f188-4975-9983-ad22450a54a2",
   "metadata": {},
   "outputs": [
    {
     "name": "stdout",
     "output_type": "stream",
     "text": [
      "Bonus question costs: $2.8750\n"
     ]
    }
   ],
   "source": [
    "prices = {\"input\": 2.50 / 1_000_000,\n",
    "          \"output\": 10/ 1_000_000}\n",
    "\n",
    "bonus_question_costs = (150 * prices['input'] + 250 * prices['output']) * 1000\n",
    "\n",
    "print(f\"Bonus question costs: ${bonus_question_costs:.4f}\")"
   ]
  },
  {
   "cell_type": "code",
   "execution_count": 105,
   "id": "24bfc8c1-fb38-4eb2-b2e9-8235104192d0",
   "metadata": {},
   "outputs": [],
   "source": [
    "# Q6 response costs\n",
    "usage = {\"input\": response.usage.prompt_tokens,\n",
    "        \"output\": response.usage.completion_tokens\n",
    "}\n",
    "\n",
    "total_costs = sum(prices[k] * usage[k] for k in usage)"
   ]
  },
  {
   "cell_type": "code",
   "execution_count": 107,
   "id": "141cb32c-4adc-4e74-ba3d-9630c0d64b54",
   "metadata": {},
   "outputs": [
    {
     "data": {
      "text/plain": [
       "{'input': 329, 'output': 90}"
      ]
     },
     "execution_count": 107,
     "metadata": {},
     "output_type": "execute_result"
    }
   ],
   "source": [
    "usage"
   ]
  },
  {
   "cell_type": "code",
   "execution_count": 106,
   "id": "f81193b8-c59c-44d7-8135-f657c0a3a087",
   "metadata": {},
   "outputs": [
    {
     "name": "stdout",
     "output_type": "stream",
     "text": [
      "Credits used: $0.0017\n"
     ]
    }
   ],
   "source": [
    "print(f\"Credits used: ${total_costs:.4f}\")"
   ]
  },
  {
   "cell_type": "code",
   "execution_count": null,
   "id": "4e24e78d-440f-4d1a-a0cc-f59f13c70203",
   "metadata": {},
   "outputs": [],
   "source": []
  }
 ],
 "metadata": {
  "kernelspec": {
   "display_name": "Python 3 (ipykernel)",
   "language": "python",
   "name": "python3"
  },
  "language_info": {
   "codemirror_mode": {
    "name": "ipython",
    "version": 3
   },
   "file_extension": ".py",
   "mimetype": "text/x-python",
   "name": "python",
   "nbconvert_exporter": "python",
   "pygments_lexer": "ipython3",
   "version": "3.9.18"
  }
 },
 "nbformat": 4,
 "nbformat_minor": 5
}

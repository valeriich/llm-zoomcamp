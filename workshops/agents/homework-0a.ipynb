{
 "cells": [
  {
   "cell_type": "markdown",
   "id": "84657ec5-35da-4aa3-9941-ca0f1841fa66",
   "metadata": {},
   "source": [
    "# Homework: Agents\n",
    "\n",
    "In this homework, we will learn more about function calling, and we will also explore MCP - model-context protocol.\n",
    "\n",
    "## Preparation\n",
    "First, we'll define a function that we will use when building our agent.\n",
    "\n",
    "It will generate fake weather data:"
   ]
  },
  {
   "cell_type": "code",
   "execution_count": 10,
   "id": "cf5b4007-99bf-4997-a30d-be2c4503b4e7",
   "metadata": {},
   "outputs": [],
   "source": [
    "import random\n",
    "\n",
    "# our fake database\n",
    "known_weather_data = {\n",
    "    'berlin': 20.0\n",
    "}\n",
    "\n",
    "\n",
    "def get_weather(city: str) -> float:\n",
    "    \"\"\"Generates fake weather data (temperature)\"\"\"\n",
    "    city = city.strip().lower()\n",
    "\n",
    "    if city in known_weather_data:\n",
    "        return known_weather_data[city]\n",
    "\n",
    "    return round(random.uniform(-5, 35), 1)"
   ]
  },
  {
   "cell_type": "code",
   "execution_count": 11,
   "id": "d1684058-a8f3-4f30-8680-a7bc0ac22253",
   "metadata": {},
   "outputs": [
    {
     "data": {
      "text/plain": [
       "10.9"
      ]
     },
     "execution_count": 11,
     "metadata": {},
     "output_type": "execute_result"
    }
   ],
   "source": [
    "get_weather(\"Dnipro\")"
   ]
  },
  {
   "cell_type": "markdown",
   "id": "e7c57489-2c18-49a7-b19f-d228cfd5019e",
   "metadata": {},
   "source": [
    "## Q1. Define function description\n",
    "We want to use it as a tool for our agent, so we need to describe it\n",
    "\n",
    "How should the description for this function look like? Fill in missing parts\n",
    "\n",
    "```python\n",
    "get_weather_tool = {\n",
    "    \"type\": \"function\",\n",
    "    \"name\": \"<TODO1>\",\n",
    "    \"description\": \"<TODO2>\",\n",
    "    \"parameters\": {\n",
    "        \"type\": \"object\",\n",
    "        \"properties\": {\n",
    "            \"<TODO3>\": {\n",
    "                \"type\": \"string\",\n",
    "                \"description\": \"<TODO4>\"\n",
    "            }\n",
    "        },\n",
    "        \"required\": [TODO5],\n",
    "        \"additionalProperties\": False\n",
    "    }\n",
    "}\n",
    "```\n",
    "What did you put in TODO3?"
   ]
  },
  {
   "cell_type": "code",
   "execution_count": 12,
   "id": "286ecc91-43a1-4d05-bfa6-e3e98c5f44bf",
   "metadata": {},
   "outputs": [],
   "source": [
    "get_weather_tool = {\n",
    "    \"type\": \"function\",\n",
    "    \"name\": \"get_weather\",\n",
    "    \"description\": \"Get weather for a city\",\n",
    "    \"parameters\": {\n",
    "        \"type\": \"object\",\n",
    "        \"properties\": {\n",
    "            \"city\": {\n",
    "                \"type\": \"string\",\n",
    "                \"description\": \"Use weather tool to get temperature for a city.\"\n",
    "            }\n",
    "        },\n",
    "        \"required\": [\"city\"],\n",
    "        \"additionalProperties\": False\n",
    "    }\n",
    "}"
   ]
  },
  {
   "cell_type": "markdown",
   "id": "f8f42ea5-921a-4b61-8518-e6363c5ec6bd",
   "metadata": {},
   "source": [
    "**Answer**: `city` (name of the function argument)"
   ]
  },
  {
   "cell_type": "markdown",
   "id": "396aba75-106a-4431-a96d-1a1055d8ef2c",
   "metadata": {},
   "source": [
    "## Testing it (Optional)\n",
    "\n",
    "If you have OpenAI API Key (or alternative provider), let's test it.\n",
    "\n",
    "A question could be \"What's the weather like in Germany?\"\n",
    "\n",
    "Experiment with different system prompts to have better answers from the system.\n",
    "\n",
    "You can use `chat_assistant.py` or implement everything yourself"
   ]
  },
  {
   "cell_type": "code",
   "execution_count": 10,
   "id": "0bb8c464-c816-42c9-b268-b12909044486",
   "metadata": {},
   "outputs": [
    {
     "data": {
      "text/plain": [
       "('chat_assistant.py', <http.client.HTTPMessage at 0x1d32105cb80>)"
      ]
     },
     "execution_count": 10,
     "metadata": {},
     "output_type": "execute_result"
    }
   ],
   "source": [
    "import urllib.request\n",
    "\n",
    "url = \"https://raw.githubusercontent.com/alexeygrigorev/rag-agents-workshop/refs/heads/main/chat_assistant.py\"\n",
    "urllib.request.urlretrieve(url, \"chat_assistant.py\")"
   ]
  },
  {
   "cell_type": "code",
   "execution_count": 13,
   "id": "f1176a3f-d11e-4050-b716-64305b04bdee",
   "metadata": {},
   "outputs": [
    {
     "data": {
      "text/plain": [
       "[{'type': 'function',\n",
       "  'name': 'get_weather',\n",
       "  'description': 'Get weather for a city',\n",
       "  'parameters': {'type': 'object',\n",
       "   'properties': {'city': {'type': 'string',\n",
       "     'description': 'Use weather tool to get temperature for a city.'}},\n",
       "   'required': ['city'],\n",
       "   'additionalProperties': False}}]"
      ]
     },
     "execution_count": 13,
     "metadata": {},
     "output_type": "execute_result"
    }
   ],
   "source": [
    "import chat_assistant\n",
    "\n",
    "tools = chat_assistant.Tools()\n",
    "tools.add_tool(get_weather, get_weather_tool)\n",
    "\n",
    "tools.get_tools()"
   ]
  },
  {
   "cell_type": "code",
   "execution_count": 14,
   "id": "a278c1a0-69c9-4f40-b964-ece0725ac6cf",
   "metadata": {},
   "outputs": [],
   "source": [
    "import os\n",
    "from openai import OpenAI\n",
    "\n",
    "client = OpenAI(api_key=os.environ[\"OPENAI_API_KEY\"])"
   ]
  },
  {
   "cell_type": "code",
   "execution_count": 15,
   "id": "388309e5-777a-4020-9b56-c481e11751c5",
   "metadata": {},
   "outputs": [],
   "source": [
    "developer_prompt = \"\"\"\n",
    "You're a weather application.\n",
    "You're to return a response with temperature in Celsius given a city.\n",
    "\n",
    "Use weather tool to get a temperature.\n",
    "\n",
    "At the end of each response, ask the user a follow up question based on your answer.\n",
    "\"\"\".strip()\n",
    "\n",
    "chat_interface = chat_assistant.ChatInterface()\n",
    "\n",
    "chat = chat_assistant.ChatAssistant(\n",
    "    tools=tools,\n",
    "    developer_prompt=developer_prompt,\n",
    "    chat_interface=chat_interface,\n",
    "    client=client\n",
    ")"
   ]
  },
  {
   "cell_type": "code",
   "execution_count": 16,
   "id": "3a7bebb3",
   "metadata": {},
   "outputs": [
    {
     "data": {
      "text/html": [
       "\n",
       "            <details>\n",
       "            <summary>Function call: <tt>get_weather({\"city\":\"Dnipro\"})</tt></summary>\n",
       "            <div>\n",
       "                <b>Call</b>\n",
       "                <pre>ResponseFunctionToolCall(arguments='{\"city\":\"Dnipro\"}', call_id='call_18zhKlJEKZfH4byjS3ZA36QG', name='get_weather', type='function_call', id='fc_6874bcb44414819b9042629c9696a08f0142d3388b7617b3', status='completed')</pre>\n",
       "            </div>\n",
       "            <div>\n",
       "                <b>Output</b>\n",
       "                <pre>3.5</pre>\n",
       "            </div>\n",
       "            \n",
       "            </details>\n",
       "        "
      ],
      "text/plain": [
       "<IPython.core.display.HTML object>"
      ]
     },
     "metadata": {},
     "output_type": "display_data"
    },
    {
     "data": {
      "text/html": [
       "\n",
       "            <div>\n",
       "                <div><b>Assistant:</b></div>\n",
       "                <div><p>The current temperature in Dnipro is 3.5°C. </p>\n",
       "<p>Would you like to know the forecast for the next few days?</p></div>\n",
       "            </div>\n",
       "        "
      ],
      "text/plain": [
       "<IPython.core.display.HTML object>"
      ]
     },
     "metadata": {},
     "output_type": "display_data"
    },
    {
     "data": {
      "text/html": [
       "\n",
       "            <div>\n",
       "                <div><b>Assistant:</b></div>\n",
       "                <div><p>Alright! If you have any other questions or need information about something else, feel free to ask!</p></div>\n",
       "            </div>\n",
       "        "
      ],
      "text/plain": [
       "<IPython.core.display.HTML object>"
      ]
     },
     "metadata": {},
     "output_type": "display_data"
    },
    {
     "data": {
      "text/html": [
       "\n",
       "            <details>\n",
       "            <summary>Function call: <tt>get_weather({\"city\":\"Berlin\"})</tt></summary>\n",
       "            <div>\n",
       "                <b>Call</b>\n",
       "                <pre>ResponseFunctionToolCall(arguments='{\"city\":\"Berlin\"}', call_id='call_vgbtMBFlvPCNzIMcQzqxnbu1', name='get_weather', type='function_call', id='fc_6874bcd43298819b8442fa725daf7a9a0142d3388b7617b3', status='completed')</pre>\n",
       "            </div>\n",
       "            <div>\n",
       "                <b>Output</b>\n",
       "                <pre>20.0</pre>\n",
       "            </div>\n",
       "            \n",
       "            </details>\n",
       "        "
      ],
      "text/plain": [
       "<IPython.core.display.HTML object>"
      ]
     },
     "metadata": {},
     "output_type": "display_data"
    },
    {
     "data": {
      "text/html": [
       "\n",
       "            <div>\n",
       "                <div><b>Assistant:</b></div>\n",
       "                <div><p>The current temperature in Berlin is 20.0°C.</p>\n",
       "<p>Is there a specific activity you'd like to plan for this weather?</p></div>\n",
       "            </div>\n",
       "        "
      ],
      "text/plain": [
       "<IPython.core.display.HTML object>"
      ]
     },
     "metadata": {},
     "output_type": "display_data"
    },
    {
     "data": {
      "text/html": [
       "\n",
       "            <div>\n",
       "                <div><b>Assistant:</b></div>\n",
       "                <div><p>No problem! If you have any other inquiries or need assistance with something else, just let me know!</p></div>\n",
       "            </div>\n",
       "        "
      ],
      "text/plain": [
       "<IPython.core.display.HTML object>"
      ]
     },
     "metadata": {},
     "output_type": "display_data"
    },
    {
     "name": "stdout",
     "output_type": "stream",
     "text": [
      "Chat ended.\n"
     ]
    }
   ],
   "source": [
    "chat.run()"
   ]
  },
  {
   "cell_type": "markdown",
   "id": "167cce70",
   "metadata": {},
   "source": [
    "# Q2. Adding another tool\n",
    "Let's add another tool - a function that can add weather data to our database:\n",
    "\n",
    "```python\n",
    "def set_weather(city: str, temp: float) -> None:\n",
    "    city = city.strip().lower()\n",
    "    known_weather_data[city] = temp\n",
    "    return 'OK'\n",
    "```\n",
    "\n",
    "Now let's write a description for it.\n",
    "\n",
    "What did you write?\n",
    "\n",
    "Optionally, you can test it after adding this function."
   ]
  },
  {
   "cell_type": "code",
   "execution_count": 20,
   "id": "66be7cfc",
   "metadata": {},
   "outputs": [],
   "source": [
    "def set_weather(city: str, temp: float) -> None:\n",
    "    \"\"\"Add weather data to database\"\"\"\n",
    "    city = city.strip().lower()\n",
    "    known_weather_data[city] = temp\n",
    "    return 'OK'\n",
    "\n",
    "# description\n",
    "add_weather_description = {\n",
    "    \"type\": \"function\",\n",
    "    \"name\": \"set_weather\",\n",
    "    \"description\": \"Add weather data to our database for a city\",\n",
    "    \"parameters\": {\n",
    "        \"type\": \"object\",\n",
    "        \"properties\": {\n",
    "            \"city\": {\n",
    "                \"type\": \"string\",\n",
    "                \"description\": \"City of the temperature to be added to our database.\"\n",
    "            },\n",
    "            \"temp\": {\n",
    "                \"type\": \"number\",\n",
    "                \"description\": \"Temperature in Celcius to be added to our database.\"\n",
    "            }\n",
    "        },\n",
    "        \"required\": [\"city\", \"temp\"],\n",
    "        \"additionalProperties\": False\n",
    "    }\n",
    "}"
   ]
  },
  {
   "cell_type": "code",
   "execution_count": 21,
   "id": "e0cfeee2",
   "metadata": {},
   "outputs": [
    {
     "data": {
      "text/plain": [
       "[{'type': 'function',\n",
       "  'name': 'get_weather',\n",
       "  'description': 'Get weather for a city',\n",
       "  'parameters': {'type': 'object',\n",
       "   'properties': {'city': {'type': 'string',\n",
       "     'description': 'Use weather tool to get temperature for a city.'}},\n",
       "   'required': ['city'],\n",
       "   'additionalProperties': False}},\n",
       " {'type': 'function',\n",
       "  'name': 'set_weather',\n",
       "  'description': 'Add weather data to our database for a city',\n",
       "  'parameters': {'type': 'object',\n",
       "   'properties': {'city': {'type': 'string',\n",
       "     'description': 'City of the temperature to be added to our database.'},\n",
       "    'temp': {'type': 'number',\n",
       "     'description': 'Temperature in Celcius to be added to our database.'}},\n",
       "   'required': ['city', 'temp'],\n",
       "   'additionalProperties': False}}]"
      ]
     },
     "execution_count": 21,
     "metadata": {},
     "output_type": "execute_result"
    }
   ],
   "source": [
    "# adding new tool\n",
    "tools.add_tool(set_weather, add_weather_description)\n",
    "\n",
    "# tune system prompt to include new action\n",
    "developer_prompt = \"\"\"\n",
    "You're a weather application.\n",
    "You're to return a response with temperature in Celsius given a city.\n",
    "\n",
    "For each city request:\n",
    "1. First use get_weather tool to get the temperature for the city\n",
    "2. Then use set_weather tool to save this temperature data to the database\n",
    "3. Respond with the temperature information\n",
    "\n",
    "At the end of each response, ask the user a follow up question based on your answer.\n",
    "\"\"\".strip()\n",
    "\n",
    "chat_interface = chat_assistant.ChatInterface()\n",
    "\n",
    "chat = chat_assistant.ChatAssistant(\n",
    "    tools=tools,\n",
    "    developer_prompt=developer_prompt,\n",
    "    chat_interface=chat_interface,\n",
    "    client=client\n",
    ")\n",
    "\n",
    "chat.tools.get_tools()"
   ]
  },
  {
   "cell_type": "code",
   "execution_count": 22,
   "id": "40e02bf5",
   "metadata": {},
   "outputs": [
    {
     "data": {
      "text/html": [
       "\n",
       "            <details>\n",
       "            <summary>Function call: <tt>get_weather({\"city\":\"Dnipro\"})</tt></summary>\n",
       "            <div>\n",
       "                <b>Call</b>\n",
       "                <pre>ResponseFunctionToolCall(arguments='{\"city\":\"Dnipro\"}', call_id='call_0PqQuWqhnWKKrlMNbR5jLxSk', name='get_weather', type='function_call', id='fc_6874beae77dc819a95dd070f98b8816c06bf3da1d9449bb1', status='completed')</pre>\n",
       "            </div>\n",
       "            <div>\n",
       "                <b>Output</b>\n",
       "                <pre>34.7</pre>\n",
       "            </div>\n",
       "            \n",
       "            </details>\n",
       "        "
      ],
      "text/plain": [
       "<IPython.core.display.HTML object>"
      ]
     },
     "metadata": {},
     "output_type": "display_data"
    },
    {
     "data": {
      "text/html": [
       "\n",
       "            <details>\n",
       "            <summary>Function call: <tt>set_weather({\"city\":\"Dnipro\",\"temp\":34.7})</tt></summary>\n",
       "            <div>\n",
       "                <b>Call</b>\n",
       "                <pre>ResponseFunctionToolCall(arguments='{\"city\":\"Dnipro\",\"temp\":34.7}', call_id='call_DHRBF50VVcwm8MUWmFnY8Kg8', name='set_weather', type='function_call', id='fc_6874beaf86b8819a82ac108ead68294806bf3da1d9449bb1', status='completed')</pre>\n",
       "            </div>\n",
       "            <div>\n",
       "                <b>Output</b>\n",
       "                <pre>\"OK\"</pre>\n",
       "            </div>\n",
       "            \n",
       "            </details>\n",
       "        "
      ],
      "text/plain": [
       "<IPython.core.display.HTML object>"
      ]
     },
     "metadata": {},
     "output_type": "display_data"
    },
    {
     "data": {
      "text/html": [
       "\n",
       "            <div>\n",
       "                <div><b>Assistant:</b></div>\n",
       "                <div><p>The current temperature in Dnipro is 34.7°C. </p>\n",
       "<p>Would you like to know the weather forecast for the next few days in Dnipro?</p></div>\n",
       "            </div>\n",
       "        "
      ],
      "text/plain": [
       "<IPython.core.display.HTML object>"
      ]
     },
     "metadata": {},
     "output_type": "display_data"
    },
    {
     "data": {
      "text/html": [
       "\n",
       "            <div>\n",
       "                <div><b>Assistant:</b></div>\n",
       "                <div><p>Alright! If you have any other questions or need information about a different city, feel free to ask.</p></div>\n",
       "            </div>\n",
       "        "
      ],
      "text/plain": [
       "<IPython.core.display.HTML object>"
      ]
     },
     "metadata": {},
     "output_type": "display_data"
    },
    {
     "data": {
      "text/html": [
       "\n",
       "            <details>\n",
       "            <summary>Function call: <tt>get_weather({\"city\":\"New York\"})</tt></summary>\n",
       "            <div>\n",
       "                <b>Call</b>\n",
       "                <pre>ResponseFunctionToolCall(arguments='{\"city\":\"New York\"}', call_id='call_hD9EaO9wQ4igCLCXJDUpjgWz', name='get_weather', type='function_call', id='fc_6874bec985b4819aa577af66cedf808506bf3da1d9449bb1', status='completed')</pre>\n",
       "            </div>\n",
       "            <div>\n",
       "                <b>Output</b>\n",
       "                <pre>-1.3</pre>\n",
       "            </div>\n",
       "            \n",
       "            </details>\n",
       "        "
      ],
      "text/plain": [
       "<IPython.core.display.HTML object>"
      ]
     },
     "metadata": {},
     "output_type": "display_data"
    },
    {
     "data": {
      "text/html": [
       "\n",
       "            <details>\n",
       "            <summary>Function call: <tt>set_weather({\"city\":\"New York\",\"temp\":-1.3})</tt></summary>\n",
       "            <div>\n",
       "                <b>Call</b>\n",
       "                <pre>ResponseFunctionToolCall(arguments='{\"city\":\"New York\",\"temp\":-1.3}', call_id='call_vX0vnaHQBtxXcb1VNfcWdUSN', name='set_weather', type='function_call', id='fc_6874becb3414819aa91082c8532bafc506bf3da1d9449bb1', status='completed')</pre>\n",
       "            </div>\n",
       "            <div>\n",
       "                <b>Output</b>\n",
       "                <pre>\"OK\"</pre>\n",
       "            </div>\n",
       "            \n",
       "            </details>\n",
       "        "
      ],
      "text/plain": [
       "<IPython.core.display.HTML object>"
      ]
     },
     "metadata": {},
     "output_type": "display_data"
    },
    {
     "data": {
      "text/html": [
       "\n",
       "            <div>\n",
       "                <div><b>Assistant:</b></div>\n",
       "                <div><p>The current temperature in New York is -1.3°C.</p>\n",
       "<p>Would you like to know about activities you can do in New York during this weather?</p></div>\n",
       "            </div>\n",
       "        "
      ],
      "text/plain": [
       "<IPython.core.display.HTML object>"
      ]
     },
     "metadata": {},
     "output_type": "display_data"
    },
    {
     "name": "stdout",
     "output_type": "stream",
     "text": [
      "Chat ended.\n"
     ]
    }
   ],
   "source": [
    "chat.run()"
   ]
  },
  {
   "cell_type": "code",
   "execution_count": null,
   "id": "56b8fe25",
   "metadata": {},
   "outputs": [
    {
     "data": {
      "text/plain": [
       "{'berlin': 20.0, 'dnipro': 34.7, 'new york': -1.3}"
      ]
     },
     "execution_count": 23,
     "metadata": {},
     "output_type": "execute_result"
    }
   ],
   "source": [
    "# our fake database\n",
    "known_weather_data"
   ]
  },
  {
   "cell_type": "markdown",
   "id": "bba660b2",
   "metadata": {},
   "source": [
    "## MCP\n",
    "MCP stands for Model-Context Protocol. It allows LLMs communicate with different tools (like Qdrant). It's function calling, but one step further:\n",
    "\n",
    "A tool can export a list of functions it has\n",
    "When we include the tool to our Agent, we just need to include the link to the MCP server\n",
    "## Q3. Install FastMCP\n",
    "Let's install a library for MCP - [FastMCP](https://github.com/jlowin/fastmcp):\n",
    "```python\n",
    "pip install fastmcp\n",
    "```\n",
    "What's the version of FastMCP you installed?"
   ]
  },
  {
   "cell_type": "code",
   "execution_count": null,
   "id": "823064bd",
   "metadata": {},
   "outputs": [
    {
     "name": "stdout",
     "output_type": "stream",
     "text": [
      "Collecting fastmcp\n",
      "  Downloading fastmcp-2.10.5-py3-none-any.whl.metadata (17 kB)\n",
      "Collecting authlib>=1.5.2 (from fastmcp)\n",
      "  Downloading authlib-1.6.0-py2.py3-none-any.whl.metadata (4.1 kB)\n",
      "Collecting cyclopts>=3.0.0 (from fastmcp)\n",
      "  Downloading cyclopts-3.22.2-py3-none-any.whl.metadata (11 kB)\n",
      "Requirement already satisfied: exceptiongroup>=1.2.2 in c:\\users\\chetv\\anaconda3\\envs\\llm_zoomcamp\\lib\\site-packages (from fastmcp) (1.3.0)\n",
      "Requirement already satisfied: httpx>=0.28.1 in c:\\users\\chetv\\anaconda3\\envs\\llm_zoomcamp\\lib\\site-packages (from fastmcp) (0.28.1)\n",
      "Collecting mcp>=1.10.0 (from fastmcp)\n",
      "  Downloading mcp-1.11.0-py3-none-any.whl.metadata (44 kB)\n",
      "Collecting openapi-pydantic>=0.5.1 (from fastmcp)\n",
      "  Downloading openapi_pydantic-0.5.1-py3-none-any.whl.metadata (10 kB)\n",
      "Requirement already satisfied: pydantic>=2.11.7 in c:\\users\\chetv\\anaconda3\\envs\\llm_zoomcamp\\lib\\site-packages (from pydantic[email]>=2.11.7->fastmcp) (2.11.7)\n",
      "Collecting pyperclip>=1.9.0 (from fastmcp)\n",
      "  Downloading pyperclip-1.9.0.tar.gz (20 kB)\n",
      "  Preparing metadata (setup.py): started\n",
      "  Preparing metadata (setup.py): finished with status 'done'\n",
      "Collecting python-dotenv>=1.1.0 (from fastmcp)\n",
      "  Downloading python_dotenv-1.1.1-py3-none-any.whl.metadata (24 kB)\n",
      "Requirement already satisfied: rich>=13.9.4 in c:\\users\\chetv\\anaconda3\\envs\\llm_zoomcamp\\lib\\site-packages (from fastmcp) (14.0.0)\n",
      "Collecting cryptography (from authlib>=1.5.2->fastmcp)\n",
      "  Downloading cryptography-45.0.5-cp37-abi3-win_amd64.whl.metadata (5.7 kB)\n",
      "Collecting attrs>=23.1.0 (from cyclopts>=3.0.0->fastmcp)\n",
      "  Downloading attrs-25.3.0-py3-none-any.whl.metadata (10 kB)\n",
      "Collecting docstring-parser>=0.15 (from cyclopts>=3.0.0->fastmcp)\n",
      "  Downloading docstring_parser-0.16-py3-none-any.whl.metadata (3.0 kB)\n",
      "Collecting rich-rst<2.0.0,>=1.3.1 (from cyclopts>=3.0.0->fastmcp)\n",
      "  Downloading rich_rst-1.3.1-py3-none-any.whl.metadata (6.0 kB)\n",
      "Requirement already satisfied: typing-extensions>=4.8.0 in c:\\users\\chetv\\anaconda3\\envs\\llm_zoomcamp\\lib\\site-packages (from cyclopts>=3.0.0->fastmcp) (4.12.2)\n",
      "Collecting docutils (from rich-rst<2.0.0,>=1.3.1->cyclopts>=3.0.0->fastmcp)\n",
      "  Downloading docutils-0.21.2-py3-none-any.whl.metadata (2.8 kB)\n",
      "Requirement already satisfied: anyio in c:\\users\\chetv\\anaconda3\\envs\\llm_zoomcamp\\lib\\site-packages (from httpx>=0.28.1->fastmcp) (4.7.0)\n",
      "Requirement already satisfied: certifi in c:\\users\\chetv\\anaconda3\\envs\\llm_zoomcamp\\lib\\site-packages (from httpx>=0.28.1->fastmcp) (2025.6.15)\n",
      "Requirement already satisfied: httpcore==1.* in c:\\users\\chetv\\anaconda3\\envs\\llm_zoomcamp\\lib\\site-packages (from httpx>=0.28.1->fastmcp) (1.0.9)\n",
      "Requirement already satisfied: idna in c:\\users\\chetv\\anaconda3\\envs\\llm_zoomcamp\\lib\\site-packages (from httpx>=0.28.1->fastmcp) (3.10)\n",
      "Requirement already satisfied: h11>=0.16 in c:\\users\\chetv\\anaconda3\\envs\\llm_zoomcamp\\lib\\site-packages (from httpcore==1.*->httpx>=0.28.1->fastmcp) (0.16.0)\n",
      "Collecting httpx-sse>=0.4 (from mcp>=1.10.0->fastmcp)\n",
      "  Downloading httpx_sse-0.4.1-py3-none-any.whl.metadata (9.4 kB)\n",
      "Collecting jsonschema>=4.20.0 (from mcp>=1.10.0->fastmcp)\n",
      "  Downloading jsonschema-4.24.0-py3-none-any.whl.metadata (7.8 kB)\n",
      "Collecting pydantic-settings>=2.5.2 (from mcp>=1.10.0->fastmcp)\n",
      "  Downloading pydantic_settings-2.10.1-py3-none-any.whl.metadata (3.4 kB)\n",
      "Collecting python-multipart>=0.0.9 (from mcp>=1.10.0->fastmcp)\n",
      "  Downloading python_multipart-0.0.20-py3-none-any.whl.metadata (1.8 kB)\n",
      "Collecting pywin32>=310 (from mcp>=1.10.0->fastmcp)\n",
      "  Downloading pywin32-310-cp310-cp310-win_amd64.whl.metadata (9.4 kB)\n",
      "Collecting sse-starlette>=1.6.1 (from mcp>=1.10.0->fastmcp)\n",
      "  Downloading sse_starlette-2.4.1-py3-none-any.whl.metadata (10 kB)\n",
      "Collecting starlette>=0.27 (from mcp>=1.10.0->fastmcp)\n",
      "  Downloading starlette-0.47.1-py3-none-any.whl.metadata (6.2 kB)\n",
      "Collecting uvicorn>=0.23.1 (from mcp>=1.10.0->fastmcp)\n",
      "  Downloading uvicorn-0.35.0-py3-none-any.whl.metadata (6.5 kB)\n",
      "Requirement already satisfied: annotated-types>=0.6.0 in c:\\users\\chetv\\anaconda3\\envs\\llm_zoomcamp\\lib\\site-packages (from pydantic>=2.11.7->pydantic[email]>=2.11.7->fastmcp) (0.6.0)\n",
      "Requirement already satisfied: pydantic-core==2.33.2 in c:\\users\\chetv\\anaconda3\\envs\\llm_zoomcamp\\lib\\site-packages (from pydantic>=2.11.7->pydantic[email]>=2.11.7->fastmcp) (2.33.2)\n",
      "Requirement already satisfied: typing-inspection>=0.4.0 in c:\\users\\chetv\\anaconda3\\envs\\llm_zoomcamp\\lib\\site-packages (from pydantic>=2.11.7->pydantic[email]>=2.11.7->fastmcp) (0.4.0)\n",
      "Requirement already satisfied: sniffio>=1.1 in c:\\users\\chetv\\anaconda3\\envs\\llm_zoomcamp\\lib\\site-packages (from anyio->httpx>=0.28.1->fastmcp) (1.3.0)\n",
      "Collecting jsonschema-specifications>=2023.03.6 (from jsonschema>=4.20.0->mcp>=1.10.0->fastmcp)\n",
      "  Downloading jsonschema_specifications-2025.4.1-py3-none-any.whl.metadata (2.9 kB)\n",
      "Collecting referencing>=0.28.4 (from jsonschema>=4.20.0->mcp>=1.10.0->fastmcp)\n",
      "  Downloading referencing-0.36.2-py3-none-any.whl.metadata (2.8 kB)\n",
      "Collecting rpds-py>=0.7.1 (from jsonschema>=4.20.0->mcp>=1.10.0->fastmcp)\n",
      "  Downloading rpds_py-0.26.0-cp310-cp310-win_amd64.whl.metadata (4.3 kB)\n",
      "Collecting email-validator>=2.0.0 (from pydantic[email]>=2.11.7->fastmcp)\n",
      "  Downloading email_validator-2.2.0-py3-none-any.whl.metadata (25 kB)\n",
      "Collecting dnspython>=2.0.0 (from email-validator>=2.0.0->pydantic[email]>=2.11.7->fastmcp)\n",
      "  Downloading dnspython-2.7.0-py3-none-any.whl.metadata (5.8 kB)\n",
      "Requirement already satisfied: markdown-it-py>=2.2.0 in c:\\users\\chetv\\anaconda3\\envs\\llm_zoomcamp\\lib\\site-packages (from rich>=13.9.4->fastmcp) (3.0.0)\n",
      "Requirement already satisfied: pygments<3.0.0,>=2.13.0 in c:\\users\\chetv\\anaconda3\\envs\\llm_zoomcamp\\lib\\site-packages (from rich>=13.9.4->fastmcp) (2.19.2)\n",
      "Requirement already satisfied: mdurl~=0.1 in c:\\users\\chetv\\anaconda3\\envs\\llm_zoomcamp\\lib\\site-packages (from markdown-it-py>=2.2.0->rich>=13.9.4->fastmcp) (0.1.2)\n",
      "Requirement already satisfied: click>=7.0 in c:\\users\\chetv\\anaconda3\\envs\\llm_zoomcamp\\lib\\site-packages (from uvicorn>=0.23.1->mcp>=1.10.0->fastmcp) (8.2.1)\n",
      "Requirement already satisfied: colorama in c:\\users\\chetv\\anaconda3\\envs\\llm_zoomcamp\\lib\\site-packages (from click>=7.0->uvicorn>=0.23.1->mcp>=1.10.0->fastmcp) (0.4.6)\n",
      "Collecting cffi>=1.14 (from cryptography->authlib>=1.5.2->fastmcp)\n",
      "  Downloading cffi-1.17.1-cp310-cp310-win_amd64.whl.metadata (1.6 kB)\n",
      "Collecting pycparser (from cffi>=1.14->cryptography->authlib>=1.5.2->fastmcp)\n",
      "  Downloading pycparser-2.22-py3-none-any.whl.metadata (943 bytes)\n",
      "Downloading fastmcp-2.10.5-py3-none-any.whl (201 kB)\n",
      "Downloading authlib-1.6.0-py2.py3-none-any.whl (239 kB)\n",
      "Downloading cyclopts-3.22.2-py3-none-any.whl (84 kB)\n",
      "Downloading rich_rst-1.3.1-py3-none-any.whl (11 kB)\n",
      "Downloading attrs-25.3.0-py3-none-any.whl (63 kB)\n",
      "Downloading docstring_parser-0.16-py3-none-any.whl (36 kB)\n",
      "Downloading mcp-1.11.0-py3-none-any.whl (155 kB)\n",
      "Downloading httpx_sse-0.4.1-py3-none-any.whl (8.1 kB)\n",
      "Downloading jsonschema-4.24.0-py3-none-any.whl (88 kB)\n",
      "Downloading jsonschema_specifications-2025.4.1-py3-none-any.whl (18 kB)\n",
      "Downloading openapi_pydantic-0.5.1-py3-none-any.whl (96 kB)\n",
      "Downloading pydantic_settings-2.10.1-py3-none-any.whl (45 kB)\n",
      "Downloading email_validator-2.2.0-py3-none-any.whl (33 kB)\n",
      "Downloading dnspython-2.7.0-py3-none-any.whl (313 kB)\n",
      "Downloading python_dotenv-1.1.1-py3-none-any.whl (20 kB)\n",
      "Downloading python_multipart-0.0.20-py3-none-any.whl (24 kB)\n",
      "Downloading pywin32-310-cp310-cp310-win_amd64.whl (9.6 MB)\n",
      "   ---------------------------------------- 0.0/9.6 MB ? eta -:--:--\n",
      "   ------------------------------ --------- 7.3/9.6 MB 45.4 MB/s eta 0:00:01\n",
      "   ---------------------------------------- 9.6/9.6 MB 39.9 MB/s eta 0:00:00\n",
      "Downloading referencing-0.36.2-py3-none-any.whl (26 kB)\n",
      "Downloading rpds_py-0.26.0-cp310-cp310-win_amd64.whl (231 kB)\n",
      "Downloading sse_starlette-2.4.1-py3-none-any.whl (10 kB)\n",
      "Downloading starlette-0.47.1-py3-none-any.whl (72 kB)\n",
      "Downloading uvicorn-0.35.0-py3-none-any.whl (66 kB)\n",
      "Downloading cryptography-45.0.5-cp37-abi3-win_amd64.whl (3.4 MB)\n",
      "   ---------------------------------------- 0.0/3.4 MB ? eta -:--:--\n",
      "   ---------------------------------------- 3.4/3.4 MB 66.6 MB/s eta 0:00:00\n",
      "Downloading cffi-1.17.1-cp310-cp310-win_amd64.whl (181 kB)\n",
      "Downloading docutils-0.21.2-py3-none-any.whl (587 kB)\n",
      "   ---------------------------------------- 0.0/587.4 kB ? eta -:--:--\n",
      "   ---------------------------------------- 587.4/587.4 kB ? eta 0:00:00\n",
      "Downloading pycparser-2.22-py3-none-any.whl (117 kB)\n",
      "Building wheels for collected packages: pyperclip\n",
      "  Building wheel for pyperclip (setup.py): started\n",
      "  Building wheel for pyperclip (setup.py): finished with status 'done'\n",
      "  Created wheel for pyperclip: filename=pyperclip-1.9.0-py3-none-any.whl size=11117 sha256=73ed1ab9f6f6947761cc1de9e3fc0243e74423bc7ff820f25a8f49e89e57141c\n",
      "  Stored in directory: c:\\users\\chetv\\appdata\\local\\pip\\cache\\wheels\\cc\\ae\\36\\ee17d1de094fcb61e24106cb329b5103861e819f94bef5e10a\n",
      "Successfully built pyperclip\n",
      "Installing collected packages: pywin32, pyperclip, rpds-py, python-multipart, python-dotenv, pycparser, httpx-sse, docutils, docstring-parser, dnspython, attrs, uvicorn, referencing, email-validator, cffi, starlette, sse-starlette, rich-rst, pydantic-settings, openapi-pydantic, jsonschema-specifications, cryptography, jsonschema, cyclopts, authlib, mcp, fastmcp\n",
      "\n",
      "  Attempting uninstall: pywin32\n",
      "\n",
      "    Found existing installation: pywin32 308\n",
      "\n",
      "    Uninstalling pywin32-308:\n",
      "\n",
      "   ----------------------------------------  0/27 [pywin32]\n",
      "   ----------------------------------------  0/27 [pywin32]\n",
      "      Successfully uninstalled pywin32-308\n",
      "   ----------------------------------------  0/27 [pywin32]\n",
      "   ----------------------------------------  0/27 [pywin32]\n",
      "   ----------------------------------------  0/27 [pywin32]\n",
      "   ----------------------------------------  0/27 [pywin32]\n",
      "   ----------------------------------------  0/27 [pywin32]\n",
      "   ----------------------------------------  0/27 [pywin32]\n",
      "   ----------------------------------------  0/27 [pywin32]\n",
      "   ----------------------------------------  0/27 [pywin32]\n",
      "   ----------------------------------------  0/27 [pywin32]\n",
      "   ----------------------------------------  0/27 [pywin32]\n",
      "   ----------------------------------------  0/27 [pywin32]\n",
      "   ----------------------------------------  0/27 [pywin32]\n",
      "   ------- --------------------------------  5/27 [pycparser]\n",
      "   -------- -------------------------------  6/27 [httpx-sse]\n",
      "   ---------- -----------------------------  7/27 [docutils]\n",
      "   ---------- -----------------------------  7/27 [docutils]\n",
      "   ---------- -----------------------------  7/27 [docutils]\n",
      "   ------------- --------------------------  9/27 [dnspython]\n",
      "   ------------- --------------------------  9/27 [dnspython]\n",
      "   -------------- ------------------------- 10/27 [attrs]\n",
      "   ---------------- ----------------------- 11/27 [uvicorn]\n",
      "   -------------------- ------------------- 14/27 [cffi]\n",
      "   -------------------------- ------------- 18/27 [pydantic-settings]\n",
      "   ---------------------------- ----------- 19/27 [openapi-pydantic]\n",
      "   ------------------------------- -------- 21/27 [cryptography]\n",
      "   -------------------------------- ------- 22/27 [jsonschema]\n",
      "   ---------------------------------- ----- 23/27 [cyclopts]\n",
      "   ----------------------------------- ---- 24/27 [authlib]\n",
      "   ----------------------------------- ---- 24/27 [authlib]\n",
      "   ----------------------------------- ---- 24/27 [authlib]\n",
      "   ------------------------------------- -- 25/27 [mcp]\n",
      "   -------------------------------------- - 26/27 [fastmcp]\n",
      "   -------------------------------------- - 26/27 [fastmcp]\n",
      "   ---------------------------------------- 27/27 [fastmcp]\n",
      "\n",
      "Successfully installed attrs-25.3.0 authlib-1.6.0 cffi-1.17.1 cryptography-45.0.5 cyclopts-3.22.2 dnspython-2.7.0 docstring-parser-0.16 docutils-0.21.2 email-validator-2.2.0 fastmcp-2.10.5 httpx-sse-0.4.1 jsonschema-4.24.0 jsonschema-specifications-2025.4.1 mcp-1.11.0 openapi-pydantic-0.5.1 pycparser-2.22 pydantic-settings-2.10.1 pyperclip-1.9.0 python-dotenv-1.1.1 python-multipart-0.0.20 pywin32-310 referencing-0.36.2 rich-rst-1.3.1 rpds-py-0.26.0 sse-starlette-2.4.1 starlette-0.47.1 uvicorn-0.35.0\n"
     ]
    },
    {
     "name": "stderr",
     "output_type": "stream",
     "text": [
      "  DEPRECATION: Building 'pyperclip' using the legacy setup.py bdist_wheel mechanism, which will be removed in a future version. pip 25.3 will enforce this behaviour change. A possible replacement is to use the standardized build interface by setting the `--use-pep517` option, (possibly combined with `--no-build-isolation`), or adding a `pyproject.toml` file to the source tree of 'pyperclip'. Discussion can be found at https://github.com/pypa/pip/issues/6334\n"
     ]
    }
   ],
   "source": [
    "%pip install fastmcp"
   ]
  },
  {
   "cell_type": "code",
   "execution_count": 25,
   "id": "1113c9f7",
   "metadata": {},
   "outputs": [
    {
     "data": {
      "text/plain": [
       "'2.10.5'"
      ]
     },
     "execution_count": 25,
     "metadata": {},
     "output_type": "execute_result"
    }
   ],
   "source": [
    "import fastmcp\n",
    "\n",
    "fastmcp.__version__"
   ]
  },
  {
   "cell_type": "markdown",
   "id": "363ed3f6",
   "metadata": {},
   "source": [
    "A simple MCP server from the documentation looks like that:\n",
    "```python\n",
    "# weather_server.py\n",
    "from fastmcp import FastMCP\n",
    "\n",
    "mcp = FastMCP(\"Demo 🚀\")\n",
    "\n",
    "@mcp.tool\n",
    "def add(a: int, b: int) -> int:\n",
    "    \"\"\"Add two numbers\"\"\"\n",
    "    return a + b\n",
    "\n",
    "if __name__ == \"__main__\":\n",
    "    mcp.run()\n",
    "```\n",
    "\n",
    "In our case, we need to write docstrings for our functions.\n",
    "\n",
    "Let's ask ChatGPT for help:\n",
    "```python\n",
    "def get_weather(city: str) -> float:\n",
    "    \"\"\"\n",
    "    Retrieves the temperature for a specified city.\n",
    "\n",
    "    Parameters:\n",
    "        city (str): The name of the city for which to retrieve weather data.\n",
    "\n",
    "    Returns:\n",
    "        float: The temperature associated with the city.\n",
    "    \"\"\"\n",
    "    city = city.strip().lower()\n",
    "\n",
    "    if city in known_weather_data:\n",
    "        return known_weather_data[city]\n",
    "\n",
    "    return round(random.uniform(-5, 35), 1)\n",
    "\n",
    "\n",
    "def set_weather(city: str, temp: float) -> None:\n",
    "    \"\"\"\n",
    "    Sets the temperature for a specified city.\n",
    "\n",
    "    Parameters:\n",
    "        city (str): The name of the city for which to set the weather data.\n",
    "        temp (float): The temperature to associate with the city.\n",
    "\n",
    "    Returns:\n",
    "        str: A confirmation string 'OK' indicating successful update.\n",
    "    \"\"\"\n",
    "    city = city.strip().lower()\n",
    "    known_weather_data[city] = temp\n",
    "    return 'OK'\n",
    "```\n",
    "Let's change the example for our case and run it\n",
    "\n",
    "What do you see in the output?\n",
    "\n",
    "Look for a string that matches this template:\n",
    "```python\n",
    "Starting MCP server 'Demo 🚀' with transport '<TODO>'\n",
    "```\n",
    "What do you have instead of <TODO>?"
   ]
  },
  {
   "cell_type": "markdown",
   "id": "dfe8bea4",
   "metadata": {},
   "source": [
    "**Answer**: `stdio`\n",
    "\n",
    "\n",
    "```\n",
    "(llm_zoomcamp) PS C:\\Users\\chetv\\Documents\\llm-zoomcamp\\workshops\\agents> fastmcp run weather_server.py\n",
    "\n",
    "\n",
    "╭─ FastMCP 2.0 ──────────────────────────────────────────────────────────────╮\n",
    "│                                                                            │\n",
    "│        _ __ ___ ______           __  __  _____________    ____    ____     │\n",
    "│       _ __ ___ / ____/___ ______/ /_/  |/  / ____/ __ \\  |___ \\  / __ \\    │\n",
    "│      _ __ ___ / /_  / __ `/ ___/ __/ /|_/ / /   / /_/ /  ___/ / / / / /    │\n",
    "│     _ __ ___ / __/ / /_/ (__  ) /_/ /  / / /___/ ____/  /  __/_/ /_/ /     │\n",
    "│    _ __ ___ /_/    \\__,_/____/\\__/_/  /_/\\____/_/      /_____(_)____/      │\n",
    "│                                                                            │\n",
    "│                                                                            │\n",
    "│                                                                            │\n",
    "│    🖥️  Server name:     Demo 🚀                                           │\n",
    "│    📦 Transport:       STDIO                                               │\n",
    "│                                                                            │\n",
    "│    📚 Docs:            https://gofastmcp.com                               │\n",
    "│    🚀 Deploy:          https://fastmcp.cloud                               │\n",
    "│                                                                            │\n",
    "│    🏎️  FastMCP version: 2.10.5                                             │\n",
    "│    🤝 MCP version:     1.11.0                                              │\n",
    "│                                                                            │\n",
    "╰────────────────────────────────────────────────────────────────────────────╯\n",
    "\n",
    "\n",
    "[07/14/25 11:44:40] INFO     Starting MCP server 'Demo 🚀' with transport 'stdio'                                server.py:1371\n",
    "```"
   ]
  },
  {
   "cell_type": "markdown",
   "id": "855909b7",
   "metadata": {},
   "source": [
    "## Q5. Protocol\n",
    "There are different ways to communicate with an MCP server. Ours is currently running using standart input/output, which means that the client write something to stdin and read the answer using stdout.\n",
    "\n",
    "Our weather server is currently running.\n",
    "\n",
    "This is how we start communitcating with it:\n",
    "\n",
    "First, we send an initialization request -- this way, we register our client with the server:\n",
    "```json\n",
    "{\"jsonrpc\": \"2.0\", \"id\": 1, \"method\": \"initialize\", \"params\": {\"protocolVersion\": \"2024-11-05\", \"capabilities\": {\"roots\": {\"listChanged\": true}, \"sampling\": {}}, \"clientInfo\": {\"name\": \"test-client\", \"version\": \"1.0.0\"}}}\n",
    "```\n",
    "We should get back something like that, which is an aknowledgement of the request:\n",
    "```json\n",
    "{\"jsonrpc\":\"2.0\",\"id\":1,\"result\":{\"protocolVersion\":\"2024-11-05\",\"capabilities\":{\"experimental\":{},\"prompts\":{\"listChanged\":false},\"resources\":{\"subscribe\":false,\"listChanged\":false},\"tools\":{\"listChanged\":true}},\"serverInfo\":{\"name\":\"Demo 🚀\",\"version\":\"1.9.4\"}}}\n",
    "```\n",
    "Next, we reply back, confirming the initialization:\n",
    "```json\n",
    "{\"jsonrpc\": \"2.0\", \"method\": \"notifications/initialized\"}\n",
    "```\n",
    "We don't expect to get anything in response\n",
    "Now we can ask for a list of available methods:\n",
    "```json\n",
    "{\"jsonrpc\": \"2.0\", \"id\": 2, \"method\": \"tools/list\"}\n",
    "```\n",
    "Let's ask the temperature in Berlin:\n",
    "```json\n",
    "{\"jsonrpc\": \"2.0\", \"id\": 3, \"method\": \"tools/call\", \"params\": {\"name\": \"<TODO>\", \"arguments\": {<TODO>}}}\n",
    "```\n",
    "What did you get in response?"
   ]
  },
  {
   "cell_type": "markdown",
   "id": "b33d84ce",
   "metadata": {},
   "source": [
    "### MCP server `STDIO` logs\n",
    "\n",
    "1) initialization:\n",
    "```json\n",
    "{\"jsonrpc\": \"2.0\", \"id\": 1, \"method\": \"initialize\", \"params\": {\"protocolVersion\": \"2024-11-05\", \"capabilities\": {\"roots\": {\"listChanged\": true}, \"sampling\": {}}, \"clientInfo\": {\"name\": \"test-client\", \"version\": \"1.0.0\"}}}\n",
    "```\n",
    "2) response:\n",
    "```json\n",
    "{\"jsonrpc\":\"2.0\",\"id\":1,\"result\":{\"protocolVersion\":\"2024-11-05\",\"capabilities\":{\"experimental\":{},\"prompts\":{\"listChanged\":false},\"resources\":{\"subscribe\":false,\"listChanged\":false},\"tools\":{\"listChanged\":true}},\"serverInfo\":{\"name\":\"Demo 🚀\",\"version\":\"1.11.0\"}}}\n",
    "```\n",
    "3) confirm initialization:\n",
    "```json\n",
    "{\"jsonrpc\": \"2.0\", \"method\": \"notifications/initialized\"}\n",
    "```\n",
    "4) Methods:\n",
    "```json\n",
    "{\"jsonrpc\": \"2.0\", \"id\": 2, \"method\": \"tools/list\"}\n",
    "```\n",
    "5) Response:\n",
    "```json\n",
    "{\"jsonrpc\":\"2.0\",\"id\":2,\"result\":{\"tools\":[{\"name\":\"get_weather\",\"description\":\"Retrieves the temperature for a specified city.\\n\\nParameters:\\n    city (str): The name of the city for which to retrieve weather data.\\n\\nReturns:\\n    float: The temperature associated with the city.\",\"inputSchema\":{\"properties\":{\"city\":{\"title\":\"City\",\"type\":\"string\"}},\"required\":[\"city\"],\"type\":\"object\"},\"outputSchema\":{\"properties\":{\"result\":{\"title\":\"Result\",\"type\":\"number\"}},\"required\":[\"result\"],\"title\":\"_WrappedResult\",\"type\":\"object\",\"x-fastmcp-wrap-result\":true}},{\"name\":\"set_weather\",\"description\":\"Sets the temperature for a specified city.\\n\\nParameters:\\n    city (str): The name of the city for which to set the weather data.\\n    temp (float): The temperature to associate with the city.\\n\\nReturns:\\n    str: A confirmation string 'OK' indicating successful update.\",\"inputSchema\":{\"properties\":{\"city\":{\"title\":\"City\",\"type\":\"string\"},\"temp\":{\"title\":\"Temp\",\"type\":\"number\"}},\"required\":[\"city\",\"temp\"],\"type\":\"object\"}}]}}\n",
    "```\n",
    "6) Query for temperature in Berlin:\n",
    "```json\n",
    "{\"jsonrpc\": \"2.0\", \"id\": 3, \"method\": \"tools/call\", \"params\": {\"name\": \"get_weather\", \"arguments\": {\"city\":\"Berlin\"}}}\n",
    "```\n",
    "7) Response (Q5 answer):\n",
    "```json\n",
    "{\"jsonrpc\":\"2.0\",\"id\":3,\"result\":{\"content\":[{\"type\":\"text\",\"text\":\"20.0\"}],\"structuredContent\":{\"result\":20.0},\"isError\":false}}\n",
    "```"
   ]
  },
  {
   "cell_type": "markdown",
   "id": "1d7bd7b9",
   "metadata": {},
   "source": [
    "## Q6. Client\n",
    "We typically don't interact with the server by copy-pasting commands in the terminal.\n",
    "\n",
    "In practice, we use an MCP Client. Let's implement it.\n",
    "\n",
    "FastMCP also supports MCP clients:\n",
    "```python\n",
    "from fastmcp import Client\n",
    "\n",
    "async def main():\n",
    "    async with Client(<TODO>) as mcp_client:\n",
    "        # TODO\n",
    "```\n",
    "Use the client to get the list of available tools of our script. How does the result look like?\n",
    "\n",
    "If you're running this code in Jupyter, you need to pass an instance of MCP server to the Client:\n",
    "```python\n",
    "import weather_server\n",
    "\n",
    "async def main():\n",
    "    async with Client(weather_server.mcp) as mcp_client:\n",
    "        # ....\n",
    "```\n",
    "If you run it in a script, you will need to use asyncio:\n",
    "```python\n",
    "import asyncio\n",
    "\n",
    "async def main():\n",
    "    async with Client(\"weather_server.py\") as mcp_client:\n",
    "        # ...\n",
    "\n",
    "if __name__ == \"__main__\":\n",
    "    test = asyncio.run(main())\n",
    "```\n",
    "\n",
    "Copy the output with the available tools when filling in the homework form."
   ]
  },
  {
   "cell_type": "code",
   "execution_count": 41,
   "id": "b4896302",
   "metadata": {},
   "outputs": [],
   "source": [
    "from fastmcp import Client\n",
    "import weather_server\n",
    "\n",
    "async with Client(weather_server.mcp) as mcp_client:\n",
    "    available_tools = await mcp_client.list_tools()"
   ]
  },
  {
   "cell_type": "code",
   "execution_count": 42,
   "id": "920f0703",
   "metadata": {},
   "outputs": [
    {
     "data": {
      "text/plain": [
       "[Tool(name='get_weather', title=None, description='Retrieves the temperature for a specified city.\\n\\nParameters:\\n    city (str): The name of the city for which to retrieve weather data.\\n\\nReturns:\\n    float: The temperature associated with the city.', inputSchema={'properties': {'city': {'title': 'City', 'type': 'string'}}, 'required': ['city'], 'type': 'object'}, outputSchema={'properties': {'result': {'title': 'Result', 'type': 'number'}}, 'required': ['result'], 'title': '_WrappedResult', 'type': 'object', 'x-fastmcp-wrap-result': True}, annotations=None, meta=None),\n",
       " Tool(name='set_weather', title=None, description=\"Sets the temperature for a specified city.\\n\\nParameters:\\n    city (str): The name of the city for which to set the weather data.\\n    temp (float): The temperature to associate with the city.\\n\\nReturns:\\n    str: A confirmation string 'OK' indicating successful update.\", inputSchema={'properties': {'city': {'title': 'City', 'type': 'string'}, 'temp': {'title': 'Temp', 'type': 'number'}}, 'required': ['city', 'temp'], 'type': 'object'}, outputSchema=None, annotations=None, meta=None)]"
      ]
     },
     "execution_count": 42,
     "metadata": {},
     "output_type": "execute_result"
    }
   ],
   "source": [
    "available_tools"
   ]
  },
  {
   "cell_type": "markdown",
   "id": "28b1bfe9",
   "metadata": {},
   "source": [
    "## Using tools from the MCP server (optional)\n",
    "FastMCP uses `asyncio` for client-server communication. In our case, the code we wrote previously in the module (`chat_assistant.py`) is not asyncio-friendly, so it will require a lot of adjustments to run it.\n",
    "\n",
    "Which is why we asked Claude to implement a simple non-async MCP client (see `mcp_client.py`) that can only do this:\n",
    "\n",
    "* List tools\n",
    "* Invoke the specified tool\n",
    "Note: this is not a production-ready MCP Client! Use it only for learning purposes.\n",
    "\n",
    "Check the code - it's quite illustrative. Or experiment with writing this code yourself.\n",
    "\n",
    "Here's how we can use it:\n",
    "```python\n",
    "import mcp_client\n",
    "\n",
    "our_mcp_client = mcp_client.MCPClient([\"python\", \"weather_server.py\"])\n",
    "\n",
    "our_mcp_client.start_server()\n",
    "our_mcp_client.initialize()\n",
    "our_mcp_client.initialized()\n",
    "```\n",
    "\n",
    "While it's somewhat verbose, it follows the initialization structure we outlined in Q5.\n",
    "\n",
    "Now we can use it:\n",
    "```python\n",
    "our_mcp_client.get_tools()\n",
    "our_mcp_client.call_tool('get_weather', {'city': 'Berlin'})\n",
    "```\n",
    "\n",
    "In order to include it in our existing application, we need a wrapper class:\n",
    "```python\n",
    "import json\n",
    "\n",
    "class MCPTools:\n",
    "    def __init__(self, mcp_client):\n",
    "        self.mcp_client = mcp_client\n",
    "        self.tools = None\n",
    "    \n",
    "    def get_tools(self):\n",
    "        if self.tools is None:\n",
    "            mcp_tools = self.mcp_client.get_tools()\n",
    "            self.tools = convert_tools_list(mcp_tools)\n",
    "        return self.tools\n",
    "\n",
    "    def function_call(self, tool_call_response):\n",
    "        function_name = tool_call_response.name\n",
    "        arguments = json.loads(tool_call_response.arguments)\n",
    "\n",
    "        result = self.mcp_client.call_tool(function_name, arguments)\n",
    "\n",
    "        return {\n",
    "            \"type\": \"function_call_output\",\n",
    "            \"call_id\": tool_call_response.call_id,\n",
    "            \"output\": json.dumps(result, indent=2),\n",
    "        }\n",
    "\n",
    "```\n",
    "It's very similar to the Tools class we created in the module, but it uses MCP to communicate with the MCP Server.\n",
    "\n",
    "(Where convert_tools_list converts MCP functions description format into the OpenAI's one)\n",
    "\n",
    "Let's use it:\n",
    "```python\n",
    "our_mcp_client = mcp_client.MCPClient([\"python\", \"weather_server.py\"])\n",
    "\n",
    "our_mcp_client.start_server()\n",
    "our_mcp_client.initialize()\n",
    "our_mcp_client.initialized()\n",
    "\n",
    "mcp_tools = mcp_client.MCPTools(mcp_client=our_mcp_client)\n",
    "\n",
    "\n",
    "developer_prompt = \"\"\"\n",
    "You help users find out the weather in their cities. \n",
    "If they didn't specify a city, ask them. Make sure we always use a city.\n",
    "\"\"\".strip()\n",
    "\n",
    "chat_interface = chat_assistant.ChatInterface()\n",
    "\n",
    "chat = chat_assistant.ChatAssistant(\n",
    "    tools=mcp_tools,\n",
    "    developer_prompt=developer_prompt,\n",
    "    chat_interface=chat_interface,\n",
    "    client=client\n",
    ")\n",
    "\n",
    "chat.run()\n",
    "```\n",
    "\n",
    "Now we use the MCP server for function calling!"
   ]
  },
  {
   "cell_type": "code",
   "execution_count": 44,
   "id": "e962a0e7",
   "metadata": {},
   "outputs": [
    {
     "data": {
      "text/plain": [
       "('mcp_client.py', <http.client.HTTPMessage at 0x25886f9a500>)"
      ]
     },
     "execution_count": 44,
     "metadata": {},
     "output_type": "execute_result"
    }
   ],
   "source": [
    "import urllib.request\n",
    "\n",
    "url = \"https://raw.githubusercontent.com/DataTalksClub/llm-zoomcamp/refs/heads/main/cohorts/2025/0a-agents/mcp_client.py\"\n",
    "urllib.request.urlretrieve(url, \"mcp_client.py\")"
   ]
  },
  {
   "cell_type": "code",
   "execution_count": 45,
   "id": "f63b52e3",
   "metadata": {},
   "outputs": [
    {
     "name": "stdout",
     "output_type": "stream",
     "text": [
      "Started server with command: python weather_server.py\n",
      "Sending initialize request...\n",
      "Initialize response: {'protocolVersion': '2024-11-05', 'capabilities': {'experimental': {}, 'prompts': {'listChanged': False}, 'resources': {'subscribe': False, 'listChanged': False}, 'tools': {'listChanged': True}}, 'serverInfo': {'name': 'Demo 🚀', 'version': '1.11.0'}}\n",
      "Sending initialized notification...\n",
      "Handshake completed successfully\n"
     ]
    }
   ],
   "source": [
    "import mcp_client\n",
    "\n",
    "our_mcp_client = mcp_client.MCPClient([\"python\", \"weather_server.py\"])\n",
    "\n",
    "our_mcp_client.start_server()\n",
    "our_mcp_client.initialize()\n",
    "our_mcp_client.initialized()"
   ]
  },
  {
   "cell_type": "code",
   "execution_count": 46,
   "id": "df54be91",
   "metadata": {},
   "outputs": [
    {
     "name": "stdout",
     "output_type": "stream",
     "text": [
      "Retrieving available tools...\n",
      "Available tools: ['get_weather', 'set_weather']\n",
      "Calling tool 'get_weather' with arguments: {'city': 'Berlin'}\n"
     ]
    },
    {
     "data": {
      "text/plain": [
       "{'content': [{'type': 'text', 'text': '20.0'}],\n",
       " 'structuredContent': {'result': 20.0},\n",
       " 'isError': False}"
      ]
     },
     "execution_count": 46,
     "metadata": {},
     "output_type": "execute_result"
    }
   ],
   "source": [
    "our_mcp_client.get_tools()\n",
    "our_mcp_client.call_tool('get_weather', {'city': 'Berlin'})"
   ]
  },
  {
   "cell_type": "code",
   "execution_count": 47,
   "id": "06b40bf6",
   "metadata": {},
   "outputs": [
    {
     "name": "stdout",
     "output_type": "stream",
     "text": [
      "Started server with command: python weather_server.py\n",
      "Sending initialize request...\n",
      "Initialize response: {'protocolVersion': '2024-11-05', 'capabilities': {'experimental': {}, 'prompts': {'listChanged': False}, 'resources': {'subscribe': False, 'listChanged': False}, 'tools': {'listChanged': True}}, 'serverInfo': {'name': 'Demo 🚀', 'version': '1.11.0'}}\n",
      "Sending initialized notification...\n",
      "Handshake completed successfully\n",
      "Retrieving available tools...\n",
      "Available tools: ['get_weather', 'set_weather']\n",
      "Calling tool 'get_weather' with arguments: {'city': 'Dnipro'}\n"
     ]
    },
    {
     "data": {
      "text/html": [
       "\n",
       "            <details>\n",
       "            <summary>Function call: <tt>get_weather({\"city\":\"Dnipro\"})</tt></summary>\n",
       "            <div>\n",
       "                <b>Call</b>\n",
       "                <pre>ResponseFunctionToolCall(arguments='{\"city\":\"Dnipro\"}', call_id='call_hjWS6HjLAW7HqJSlkSyq2NU7', name='get_weather', type='function_call', id='fc_6874cf1b1530819abaeb3b024e75384105e66dd0cac5b6d4', status='completed')</pre>\n",
       "            </div>\n",
       "            <div>\n",
       "                <b>Output</b>\n",
       "                <pre>{\n",
       "  \"content\": [\n",
       "    {\n",
       "      \"type\": \"text\",\n",
       "      \"text\": \"4.1\"\n",
       "    }\n",
       "  ],\n",
       "  \"structuredContent\": {\n",
       "    \"result\": 4.1\n",
       "  },\n",
       "  \"isError\": false\n",
       "}</pre>\n",
       "            </div>\n",
       "            \n",
       "            </details>\n",
       "        "
      ],
      "text/plain": [
       "<IPython.core.display.HTML object>"
      ]
     },
     "metadata": {},
     "output_type": "display_data"
    },
    {
     "data": {
      "text/html": [
       "\n",
       "            <div>\n",
       "                <div><b>Assistant:</b></div>\n",
       "                <div><p>The current temperature in Dnipro is 4.1°C. If you need more information or have questions about the weather, feel free to ask!</p></div>\n",
       "            </div>\n",
       "        "
      ],
      "text/plain": [
       "<IPython.core.display.HTML object>"
      ]
     },
     "metadata": {},
     "output_type": "display_data"
    },
    {
     "name": "stdout",
     "output_type": "stream",
     "text": [
      "Chat ended.\n"
     ]
    }
   ],
   "source": [
    "our_mcp_client = mcp_client.MCPClient([\"python\", \"weather_server.py\"])\n",
    "\n",
    "our_mcp_client.start_server()\n",
    "our_mcp_client.initialize()\n",
    "our_mcp_client.initialized()\n",
    "\n",
    "mcp_tools = mcp_client.MCPTools(mcp_client=our_mcp_client)\n",
    "\n",
    "\n",
    "developer_prompt = \"\"\"\n",
    "You help users find out the weather in their cities. \n",
    "If they didn't specify a city, ask them. Make sure we always use a city.\n",
    "\"\"\".strip()\n",
    "\n",
    "chat_interface = chat_assistant.ChatInterface()\n",
    "\n",
    "chat = chat_assistant.ChatAssistant(\n",
    "    tools=mcp_tools,\n",
    "    developer_prompt=developer_prompt,\n",
    "    chat_interface=chat_interface,\n",
    "    client=client\n",
    ")\n",
    "\n",
    "chat.run()"
   ]
  },
  {
   "cell_type": "code",
   "execution_count": null,
   "id": "52e61175",
   "metadata": {},
   "outputs": [],
   "source": []
  }
 ],
 "metadata": {
  "kernelspec": {
   "display_name": "llm_zoomcamp",
   "language": "python",
   "name": "python3"
  },
  "language_info": {
   "codemirror_mode": {
    "name": "ipython",
    "version": 3
   },
   "file_extension": ".py",
   "mimetype": "text/x-python",
   "name": "python",
   "nbconvert_exporter": "python",
   "pygments_lexer": "ipython3",
   "version": "3.10.18"
  }
 },
 "nbformat": 4,
 "nbformat_minor": 5
}

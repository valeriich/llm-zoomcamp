{
 "cells": [
  {
   "cell_type": "markdown",
   "id": "ff26ffe0-a9a8-4567-984c-52d1066f7d41",
   "metadata": {},
   "source": [
    "# Question 1. dlt Version\n",
    "In this homework, we will load the data from our FAQ to Qdrant\n",
    "\n",
    "Let's install dlt with Qdrant support and Qdrant client:\n",
    "\n",
    "```python\n",
    "pip install -q \"dlt[qdrant]\" \"qdrant-client[fastembed]\"\n",
    "```"
   ]
  },
  {
   "cell_type": "code",
   "execution_count": 1,
   "id": "5a85f93e-2604-4a46-82ce-527fa7426a3a",
   "metadata": {},
   "outputs": [],
   "source": [
    "!pip install -q \"dlt[qdrant]\" \"qdrant-client[fastembed]\""
   ]
  },
  {
   "cell_type": "code",
   "execution_count": null,
   "id": "38723c1a",
   "metadata": {},
   "outputs": [
    {
     "data": {
      "text/plain": [
       "'1.12.3'"
      ]
     },
     "execution_count": 4,
     "metadata": {},
     "output_type": "execute_result"
    }
   ],
   "source": [
    "# check dlt version installed\n",
    "import dlt \n",
    "\n",
    "dlt.__version__"
   ]
  },
  {
   "cell_type": "markdown",
   "id": "10f660a1",
   "metadata": {},
   "source": [
    "## dlt Resourse\n",
    "For reading the FAQ data, we have this helper function:"
   ]
  },
  {
   "cell_type": "code",
   "execution_count": 5,
   "id": "c9e8bd24",
   "metadata": {},
   "outputs": [],
   "source": [
    "import dlt\n",
    "import requests\n",
    "\n",
    "@dlt.resource(write_disposition=\"replace\", name='dlt-homework')\n",
    "def zoomcamp_data():\n",
    "    docs_url = 'https://github.com/alexeygrigorev/llm-rag-workshop/raw/main/notebooks/documents.json'\n",
    "    docs_response = requests.get(docs_url)\n",
    "    documents_raw = docs_response.json()\n",
    "\n",
    "    for course in documents_raw:\n",
    "        course_name = course['course']\n",
    "\n",
    "        for doc in course['documents']:\n",
    "            doc['course'] = course_name\n",
    "            yield doc"
   ]
  },
  {
   "cell_type": "markdown",
   "id": "4c829c44",
   "metadata": {},
   "source": [
    "Annotate it with `@dlt.resource`. We will use it when creating a dlt pipeline.\n",
    "\n",
    "# Question 2. dlt pipeline\n",
    "Now let's create a pipeline.\n",
    "\n",
    "We need to define a destination for that. Let's use the qdrant one:"
   ]
  },
  {
   "cell_type": "code",
   "execution_count": 6,
   "id": "a233b642",
   "metadata": {},
   "outputs": [],
   "source": [
    "from dlt.destinations import qdrant\n",
    "\n",
    "qdrant_destination = qdrant(\n",
    "  qd_path=\"db.qdrant\", \n",
    ")"
   ]
  },
  {
   "cell_type": "markdown",
   "id": "8002d208",
   "metadata": {},
   "source": [
    "In this case, we tell dlt (and Qdrant) to create a folder with our data, and the name for it will be `db.qdrant`\n",
    "\n",
    "Let's run it:"
   ]
  },
  {
   "cell_type": "code",
   "execution_count": 7,
   "id": "20238c15",
   "metadata": {},
   "outputs": [
    {
     "name": "stderr",
     "output_type": "stream",
     "text": [
      "c:\\Users\\chetv\\anaconda3\\envs\\llm_zoomcamp\\lib\\site-packages\\tqdm\\auto.py:21: TqdmWarning: IProgress not found. Please update jupyter and ipywidgets. See https://ipywidgets.readthedocs.io/en/stable/user_install.html\n",
      "  from .autonotebook import tqdm as notebook_tqdm\n"
     ]
    },
    {
     "name": "stdout",
     "output_type": "stream",
     "text": [
      "Run started at 2025-07-05 20:20:26.338880+00:00 and COMPLETED in 9.87 seconds with 4 steps.\n",
      "Step extract COMPLETED in 0.95 seconds.\n",
      "\n",
      "Load package 1751746828.720088 is EXTRACTED and NOT YET LOADED to the destination and contains no failed jobs\n",
      "\n",
      "Step normalize COMPLETED in 0.19 seconds.\n",
      "Normalized data for the following tables:\n",
      "- dlt_homework: 948 row(s)\n",
      "- _dlt_pipeline_state: 1 row(s)\n",
      "\n",
      "Load package 1751746828.720088 is NORMALIZED and NOT YET LOADED to the destination and contains no failed jobs\n",
      "\n",
      "Step load COMPLETED in 6.35 seconds.\n",
      "Pipeline zoomcamp_pipeline load step completed in 6.30 seconds\n",
      "1 load package(s) were loaded to destination qdrant and into dataset zoomcamp_tagged_data\n",
      "The qdrant destination used c:\\Users\\chetv\\Documents\\llm-zoomcamp\\workshops\\dlt\\db.qdrant location to store data\n",
      "Load package 1751746828.720088 is LOADED and contains no failed jobs\n",
      "\n",
      "Step run COMPLETED in 9.87 seconds.\n",
      "Pipeline zoomcamp_pipeline load step completed in 6.30 seconds\n",
      "1 load package(s) were loaded to destination qdrant and into dataset zoomcamp_tagged_data\n",
      "The qdrant destination used c:\\Users\\chetv\\Documents\\llm-zoomcamp\\workshops\\dlt\\db.qdrant location to store data\n",
      "Load package 1751746828.720088 is LOADED and contains no failed jobs\n"
     ]
    }
   ],
   "source": [
    "pipeline = dlt.pipeline(\n",
    "    pipeline_name=\"zoomcamp_pipeline\",\n",
    "    destination=qdrant_destination,\n",
    "    dataset_name=\"zoomcamp_tagged_data\"\n",
    "\n",
    ")\n",
    "load_info = pipeline.run(zoomcamp_data())\n",
    "print(pipeline.last_trace)"
   ]
  },
  {
   "cell_type": "markdown",
   "id": "94e9705c",
   "metadata": {},
   "source": [
    "How many rows were inserted into the zoomcamp_data collection?\n",
    "\n",
    "Look for \"Normalized data for the following tables:\" in the trace output.\n",
    "\n",
    "**Answer**: 948 \n",
    "\n",
    "```\n",
    "Step normalize COMPLETED in 0.19 seconds.\n",
    "Normalized data for the following tables:\n",
    "- dlt_homework: 948 row(s)\n",
    "- _dlt_pipeline_state: 1 row(s)\n",
    "```"
   ]
  },
  {
   "cell_type": "code",
   "execution_count": null,
   "id": "c0f3eddf",
   "metadata": {},
   "outputs": [
    {
     "name": "stdout",
     "output_type": "stream",
     "text": [
      "Rows in loaded data: 948\n"
     ]
    }
   ],
   "source": [
    "import json\n",
    "import gzip\n",
    "\n",
    "\n",
    "# load task ID  - 1751746828.720088, it can be found in dlt \"pipelines\" folder\n",
    "# there is JSONL gzip-compressed file\n",
    "# we can read it and count the rows\n",
    "PATH_TO_LOADED = \"C:\\\\Users\\\\chetv\\\\.dlt\\pipelines\\\\zoomcamp_pipeline\\\\load\\\\loaded\\\\1751746828.720088\\\\completed_jobs\\\\dlt_homework.e36120b43b.0.jsonl\"\n",
    "\n",
    "with gzip.open(PATH_TO_LOADED, 'rt',  encoding='utf-8') as f:\n",
    "    data = [json.loads(line) for line in f]\n",
    "\n",
    "print(f\"Rows in loaded data: {len(data)}\")\n"
   ]
  },
  {
   "cell_type": "markdown",
   "id": "afe03964",
   "metadata": {},
   "source": [
    "\n",
    "# Question 3. Embeddings\n",
    "When inserting the data, an embedding model was used. Which one?\n",
    "\n",
    "You can find this out by inspecting the `meta.json` file created in the target folder.\n",
    "\n",
    "**Answer**:\n",
    "\n",
    "`\"fast-bge-small-en\"`"
   ]
  },
  {
   "cell_type": "code",
   "execution_count": null,
   "id": "a4c36c41",
   "metadata": {},
   "outputs": [
    {
     "data": {
      "text/plain": [
       "'BAAI/bge-small-en'"
      ]
     },
     "execution_count": 91,
     "metadata": {},
     "output_type": "execute_result"
    }
   ],
   "source": [
    "# also it can be found in specifications \n",
    "pipeline.destination.spec.model"
   ]
  },
  {
   "cell_type": "code",
   "execution_count": null,
   "id": "e11f3813",
   "metadata": {},
   "outputs": [],
   "source": []
  }
 ],
 "metadata": {
  "kernelspec": {
   "display_name": "llm_zoomcamp",
   "language": "python",
   "name": "python3"
  },
  "language_info": {
   "codemirror_mode": {
    "name": "ipython",
    "version": 3
   },
   "file_extension": ".py",
   "mimetype": "text/x-python",
   "name": "python",
   "nbconvert_exporter": "python",
   "pygments_lexer": "ipython3",
   "version": "3.10.18"
  }
 },
 "nbformat": 4,
 "nbformat_minor": 5
}

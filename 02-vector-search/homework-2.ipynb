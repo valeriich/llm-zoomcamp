{
 "cells": [
  {
   "cell_type": "markdown",
   "id": "a327283c-d873-43fe-94a7-9fa7d8b7efd7",
   "metadata": {},
   "source": [
    "# Homework: Vector Search"
   ]
  },
  {
   "cell_type": "code",
   "execution_count": 11,
   "id": "af9515ac-664e-4c98-90cf-8506419584ac",
   "metadata": {},
   "outputs": [],
   "source": [
    "from fastembed import TextEmbedding\n",
    "import numpy as np"
   ]
  },
  {
   "cell_type": "markdown",
   "id": "4281df3a-6840-4e92-bc49-b135199defcb",
   "metadata": {},
   "source": [
    "## Q1. Embeddings the query\n",
    "\n",
    "Embed the query: `'I just discovered the course. Can I join now?'`. Use the `jinaai/jina-embeddings-v2-small-en` model.\n",
    "\n",
    "You should get a numpy array of size 512.\n",
    "\n",
    "What's the minimal value in this array?"
   ]
  },
  {
   "cell_type": "code",
   "execution_count": 3,
   "id": "c1fbcfac-9ab0-494c-91d5-cefd2cc17725",
   "metadata": {},
   "outputs": [
    {
     "data": {
      "application/vnd.jupyter.widget-view+json": {
       "model_id": "af6e2efc2c274dad9be27f19558735e8",
       "version_major": 2,
       "version_minor": 0
      },
      "text/plain": [
       "Fetching 5 files:   0%|          | 0/5 [00:00<?, ?it/s]"
      ]
     },
     "metadata": {},
     "output_type": "display_data"
    },
    {
     "data": {
      "application/vnd.jupyter.widget-view+json": {
       "model_id": "0725bed97d5f43c98bb598f62ae70521",
       "version_major": 2,
       "version_minor": 0
      },
      "text/plain": [
       "tokenizer.json: 0.00B [00:00, ?B/s]"
      ]
     },
     "metadata": {},
     "output_type": "display_data"
    },
    {
     "data": {
      "application/vnd.jupyter.widget-view+json": {
       "model_id": "1927ed7c665149e7864d9f9270f39717",
       "version_major": 2,
       "version_minor": 0
      },
      "text/plain": [
       "tokenizer_config.json:   0%|          | 0.00/367 [00:00<?, ?B/s]"
      ]
     },
     "metadata": {},
     "output_type": "display_data"
    },
    {
     "data": {
      "application/vnd.jupyter.widget-view+json": {
       "model_id": "e641e1b9daca45bab5eb1d8c9d232729",
       "version_major": 2,
       "version_minor": 0
      },
      "text/plain": [
       "config.json: 0.00B [00:00, ?B/s]"
      ]
     },
     "metadata": {},
     "output_type": "display_data"
    },
    {
     "data": {
      "application/vnd.jupyter.widget-view+json": {
       "model_id": "709c2da82c2e4cd59751e4556bf588c2",
       "version_major": 2,
       "version_minor": 0
      },
      "text/plain": [
       "special_tokens_map.json:   0%|          | 0.00/125 [00:00<?, ?B/s]"
      ]
     },
     "metadata": {},
     "output_type": "display_data"
    },
    {
     "data": {
      "application/vnd.jupyter.widget-view+json": {
       "model_id": "c9dd2ac101cb4b4098af98ec07b705ec",
       "version_major": 2,
       "version_minor": 0
      },
      "text/plain": [
       "model.onnx:   0%|          | 0.00/130M [00:00<?, ?B/s]"
      ]
     },
     "metadata": {},
     "output_type": "display_data"
    }
   ],
   "source": [
    "model_name = \"jinaai/jina-embeddings-v2-small-en\"\n",
    "embedding_model = TextEmbedding(model_name=model_name)\n"
   ]
  },
  {
   "cell_type": "code",
   "execution_count": 10,
   "id": "3fbb3113",
   "metadata": {},
   "outputs": [
    {
     "name": "stdout",
     "output_type": "stream",
     "text": [
      "Size of numpy array: 512\n",
      "Minimal value in this array: -0.117\n"
     ]
    }
   ],
   "source": [
    "query = 'I just discovered the course. Can I join now?'\n",
    "embedding_query = list(embedding_model.embed([query]))[0]\n",
    "print(f\"Size of numpy array: {embedding_query.shape[0]}\")\n",
    "print(f\"Minimal value in this array: {embedding_query.min():.3f}\")"
   ]
  },
  {
   "cell_type": "code",
   "execution_count": null,
   "id": "e9068120",
   "metadata": {},
   "outputs": [
    {
     "data": {
      "text/plain": [
       "1.0"
      ]
     },
     "execution_count": 16,
     "metadata": {},
     "output_type": "execute_result"
    }
   ],
   "source": [
    "# vectors of embedding model are normalized, so we can use dot product\n",
    "np.linalg.norm(embedding_query)"
   ]
  },
  {
   "cell_type": "markdown",
   "id": "17a23569",
   "metadata": {},
   "source": [
    "## Q2. Cosine similarity with another vector\n",
    "Now let's embed this document:\n",
    "```python\n",
    "doc = 'Can I still join the course after the start date?'\n",
    "```\n",
    "What's the cosine similarity between the vector for the query and the vector for the document?"
   ]
  },
  {
   "cell_type": "code",
   "execution_count": 15,
   "id": "c3211d54",
   "metadata": {},
   "outputs": [
    {
     "name": "stdout",
     "output_type": "stream",
     "text": [
      "Cosine simialrity between vectors of query and the document: 0.90\n"
     ]
    }
   ],
   "source": [
    "doc = 'Can I still join the course after the start date?'\n",
    "embedding_doc = list(embedding_model.embed([doc]))[0]\n",
    "\n",
    "cosine_similarity = embedding_doc.dot(embedding_query)\n",
    "print(f\"Cosine simialrity between vectors of query and the document: {cosine_similarity:.2f}\")"
   ]
  },
  {
   "cell_type": "markdown",
   "id": "40ec85ef",
   "metadata": {},
   "source": [
    "## Q3. Ranking by cosine\n",
    "\n",
    "For Q3 and Q4 we will use these documents:\n",
    "```python\n",
    "documents = [{'text': \"Yes, even if you don't register, you're still eligible to submit the homeworks.\\nBe aware, however, that there will be deadlines for turning in the final projects. So don't leave everything for the last minute.\",\n",
    "  'section': 'General course-related questions',\n",
    "  'question': 'Course - Can I still join the course after the start date?',\n",
    "  'course': 'data-engineering-zoomcamp'},\n",
    " {'text': 'Yes, we will keep all the materials after the course finishes, so you can follow the course at your own pace after it finishes.\\nYou can also continue looking at the homeworks and continue preparing for the next cohort. I guess you can also start working on your final capstone project.',\n",
    "  'section': 'General course-related questions',\n",
    "  'question': 'Course - Can I follow the course after it finishes?',\n",
    "  'course': 'data-engineering-zoomcamp'},\n",
    " {'text': \"The purpose of this document is to capture frequently asked technical questions\\nThe exact day and hour of the course will be 15th Jan 2024 at 17h00. The course will start with the first  “Office Hours'' live.1\\nSubscribe to course public Google Calendar (it works from Desktop only).\\nRegister before the course starts using this link.\\nJoin the course Telegram channel with announcements.\\nDon’t forget to register in DataTalks.Club's Slack and join the channel.\",\n",
    "  'section': 'General course-related questions',\n",
    "  'question': 'Course - When will the course start?',\n",
    "  'course': 'data-engineering-zoomcamp'},\n",
    " {'text': 'You can start by installing and setting up all the dependencies and requirements:\\nGoogle cloud account\\nGoogle Cloud SDK\\nPython 3 (installed with Anaconda)\\nTerraform\\nGit\\nLook over the prerequisites and syllabus to see if you are comfortable with these subjects.',\n",
    "  'section': 'General course-related questions',\n",
    "  'question': 'Course - What can I do before the course starts?',\n",
    "  'course': 'data-engineering-zoomcamp'},\n",
    " {'text': 'Star the repo! Share it with friends if you find it useful ❣️\\nCreate a PR if you see you can improve the text or the structure of the repository.',\n",
    "  'section': 'General course-related questions',\n",
    "  'question': 'How can we contribute to the course?',\n",
    "  'course': 'data-engineering-zoomcamp'}]\n",
    "```\n",
    "Compute the embeddings for the text field, and compute the cosine between the query vector and all the documents.\n",
    "\n",
    "What's the document index with the highest similarity? (Indexing starts from 0)"
   ]
  },
  {
   "cell_type": "code",
   "execution_count": 17,
   "id": "795e8954",
   "metadata": {},
   "outputs": [],
   "source": [
    "documents = [{'text': \"Yes, even if you don't register, you're still eligible to submit the homeworks.\\nBe aware, however, that there will be deadlines for turning in the final projects. So don't leave everything for the last minute.\",\n",
    "  'section': 'General course-related questions',\n",
    "  'question': 'Course - Can I still join the course after the start date?',\n",
    "  'course': 'data-engineering-zoomcamp'},\n",
    " {'text': 'Yes, we will keep all the materials after the course finishes, so you can follow the course at your own pace after it finishes.\\nYou can also continue looking at the homeworks and continue preparing for the next cohort. I guess you can also start working on your final capstone project.',\n",
    "  'section': 'General course-related questions',\n",
    "  'question': 'Course - Can I follow the course after it finishes?',\n",
    "  'course': 'data-engineering-zoomcamp'},\n",
    " {'text': \"The purpose of this document is to capture frequently asked technical questions\\nThe exact day and hour of the course will be 15th Jan 2024 at 17h00. The course will start with the first  “Office Hours'' live.1\\nSubscribe to course public Google Calendar (it works from Desktop only).\\nRegister before the course starts using this link.\\nJoin the course Telegram channel with announcements.\\nDon’t forget to register in DataTalks.Club's Slack and join the channel.\",\n",
    "  'section': 'General course-related questions',\n",
    "  'question': 'Course - When will the course start?',\n",
    "  'course': 'data-engineering-zoomcamp'},\n",
    " {'text': 'You can start by installing and setting up all the dependencies and requirements:\\nGoogle cloud account\\nGoogle Cloud SDK\\nPython 3 (installed with Anaconda)\\nTerraform\\nGit\\nLook over the prerequisites and syllabus to see if you are comfortable with these subjects.',\n",
    "  'section': 'General course-related questions',\n",
    "  'question': 'Course - What can I do before the course starts?',\n",
    "  'course': 'data-engineering-zoomcamp'},\n",
    " {'text': 'Star the repo! Share it with friends if you find it useful ❣️\\nCreate a PR if you see you can improve the text or the structure of the repository.',\n",
    "  'section': 'General course-related questions',\n",
    "  'question': 'How can we contribute to the course?',\n",
    "  'course': 'data-engineering-zoomcamp'}]"
   ]
  },
  {
   "cell_type": "code",
   "execution_count": 28,
   "id": "b8b7600f",
   "metadata": {},
   "outputs": [
    {
     "name": "stdout",
     "output_type": "stream",
     "text": [
      "Document index with the highest similarity: 1\n"
     ]
    }
   ],
   "source": [
    "text_fields = [record.get('text', '') for record in documents]\n",
    "embedding_documents = np.array(list((embedding_model.embed(text_fields))))\n",
    "\n",
    "# calculating cosine similarity\n",
    "cosine_scores = embedding_documents.dot(embedding_query)\n",
    "print(f\"Document index with the highest similarity: {cosine_scores.argmax()}\")"
   ]
  },
  {
   "cell_type": "markdown",
   "id": "01d49c0f",
   "metadata": {},
   "source": [
    "## Q4. Ranking by cosine, version two\n",
    "Now let's calculate a new field, which is a concatenation of question and text:\n",
    "```python\n",
    "full_text = doc['question'] + ' ' + doc['text']\n",
    "```\n",
    "Embed this field and compute the cosine between it and the query vector. What's the highest scoring document?"
   ]
  },
  {
   "cell_type": "code",
   "execution_count": 29,
   "id": "718bfc5c",
   "metadata": {},
   "outputs": [
    {
     "name": "stdout",
     "output_type": "stream",
     "text": [
      "Document index with the highest similarity: 0\n"
     ]
    }
   ],
   "source": [
    "# concatenation of two fields\n",
    "full_texts = [record.get('question', '') + ' ' + record.get('text', '') for record in documents]\n",
    "embedding_documents = np.array(list((embedding_model.embed(full_texts))))\n",
    "\n",
    "# calculating cosine similarity\n",
    "cosine_scores = embedding_documents.dot(embedding_query)\n",
    "print(f\"Document index with the highest similarity: {cosine_scores.argmax()}\")"
   ]
  },
  {
   "cell_type": "markdown",
   "id": "58ec1fcb",
   "metadata": {},
   "source": [
    "Is it different from Q3? If yes, why?\n",
    "\n",
    "Answer: *Yes, the result is different because the question in the document with index 0 contains question semantically close to the query!*"
   ]
  },
  {
   "cell_type": "code",
   "execution_count": null,
   "id": "637271f9",
   "metadata": {},
   "outputs": [
    {
     "data": {
      "text/plain": [
       "{'can', 'course', 'i', 'join', 'the'}"
      ]
     },
     "execution_count": 45,
     "metadata": {},
     "output_type": "execute_result"
    }
   ],
   "source": [
    "import re\n",
    "\n",
    "# get words\n",
    "words_query = re.findall(r\"\\w+\", query.lower())\n",
    "words_question = re.findall(r\"\\w+\", documents[0]['question'].lower())\n",
    "\n",
    "# look at the intersection\n",
    "set(words_query).intersection(words_question)"
   ]
  },
  {
   "cell_type": "markdown",
   "id": "114792fd",
   "metadata": {},
   "source": [
    "## Q5. Selecting the embedding model\n",
    "Now let's select a smaller embedding model. What's the smallest dimensionality for models in fastembed?"
   ]
  },
  {
   "cell_type": "code",
   "execution_count": 54,
   "id": "aa33db98",
   "metadata": {},
   "outputs": [
    {
     "name": "stdout",
     "output_type": "stream",
     "text": [
      "Smallest dimensionality for models in fastembed: 384\n"
     ]
    }
   ],
   "source": [
    "list_of_supported_models = TextEmbedding.list_supported_models()\n",
    "dimensions = np.array([record['dim'] for record in list_of_supported_models])\n",
    "print(f\"Smallest dimensionality for models in fastembed: {min(dimensions)}\")"
   ]
  },
  {
   "cell_type": "code",
   "execution_count": 59,
   "id": "87bf21c0",
   "metadata": {},
   "outputs": [
    {
     "name": "stdout",
     "output_type": "stream",
     "text": [
      "Supported models with the smallest dimensionality of 384:\n",
      "\n",
      "    BAAI/bge-small-en\n",
      "    BAAI/bge-small-en-v1.5\n",
      "    snowflake/snowflake-arctic-embed-xs\n",
      "    snowflake/snowflake-arctic-embed-s\n",
      "    sentence-transformers/all-MiniLM-L6-v2\n",
      "    sentence-transformers/paraphrase-multilingual-MiniLM-L12-v2\n"
     ]
    }
   ],
   "source": [
    "print(f\"Supported models with the smallest dimensionality of {min(dimensions)}:\\n\")\n",
    "indexes = np.where(dimensions == dimensions.min())[0]\n",
    "for ind in indexes:\n",
    "    print(f\"    {list_of_supported_models[ind]['model']}\")"
   ]
  },
  {
   "cell_type": "markdown",
   "id": "82cb2f21",
   "metadata": {},
   "source": [
    "One of these models is BAAI/bge-small-en. Let's use it.\n",
    "\n",
    "## Q6. Indexing with `qdrant` (2 points)\n",
    "For the last question, we will use more documents.\n",
    "\n",
    "We will select only FAQ records from our ml zoomcamp:\n",
    "```python\n",
    "import requests \n",
    "\n",
    "docs_url = 'https://github.com/alexeygrigorev/llm-rag-workshop/raw/main/notebooks/documents.json'\n",
    "docs_response = requests.get(docs_url)\n",
    "documents_raw = docs_response.json()\n",
    "\n",
    "\n",
    "documents = []\n",
    "\n",
    "for course in documents_raw:\n",
    "    course_name = course['course']\n",
    "    if course_name != 'machine-learning-zoomcamp':\n",
    "        continue\n",
    "\n",
    "    for doc in course['documents']:\n",
    "        doc['course'] = course_name\n",
    "        documents.append(doc)\n",
    "```\n",
    "Add them to qdrant using the model form Q5.\n",
    "\n",
    "When adding the data, use both question and answer fields:\n",
    "```python\n",
    "text = doc['question'] + ' ' + doc['text']\n",
    "```\n",
    "\n",
    "After the data is inserted, use the question from Q1 for querying the collection.\n",
    "\n",
    "What's the highest score in the results? (The score for the first returned record)"
   ]
  },
  {
   "cell_type": "code",
   "execution_count": 60,
   "id": "87b1a059",
   "metadata": {},
   "outputs": [],
   "source": [
    "import requests \n",
    "\n",
    "docs_url = 'https://github.com/alexeygrigorev/llm-rag-workshop/raw/main/notebooks/documents.json'\n",
    "docs_response = requests.get(docs_url)\n",
    "documents_raw = docs_response.json()\n",
    "\n",
    "\n",
    "documents = []\n",
    "\n",
    "for course in documents_raw:\n",
    "    course_name = course['course']\n",
    "    if course_name != 'machine-learning-zoomcamp':\n",
    "        continue\n",
    "\n",
    "    for doc in course['documents']:\n",
    "        doc['course'] = course_name\n",
    "        documents.append(doc)"
   ]
  },
  {
   "cell_type": "code",
   "execution_count": 78,
   "id": "1f47b739",
   "metadata": {},
   "outputs": [
    {
     "name": "stdout",
     "output_type": "stream",
     "text": [
      "In the list, there are 375 documents like that:\n",
      "\n",
      "{'course': 'machine-learning-zoomcamp',\n",
      " 'question': 'How do I sign up?',\n",
      " 'section': 'General course-related questions',\n",
      " 'text': 'Machine Learning Zoomcamp FAQ\\n'\n",
      "         'The purpose of this document is to capture frequently asked '\n",
      "         'technical questions.\\n'\n",
      "         'We did this for our data engineering course and it worked quite '\n",
      "         'well. Check this document for inspiration on how to structure your '\n",
      "         'questions and answers:\\n'\n",
      "         'Data Engineering Zoomcamp FAQ\\n'\n",
      "         'In the course GitHub repository there’s a link. Here it is: '\n",
      "         'https://airtable.com/shryxwLd0COOEaqXo\\n'\n",
      "         'work'}\n"
     ]
    }
   ],
   "source": [
    "from pprint import pprint\n",
    "print(f\"In the list, there are {len(documents)} documents like that:\\n\")\n",
    "pprint(documents[0])"
   ]
  },
  {
   "cell_type": "code",
   "execution_count": null,
   "id": "46146d43",
   "metadata": {},
   "outputs": [
    {
     "data": {
      "text/plain": [
       "VersionInfo(title='qdrant - vector search engine', version='1.14.1', commit='530430fac2a3ca872504f276d2c91a5c91f43fa0')"
      ]
     },
     "execution_count": 65,
     "metadata": {},
     "output_type": "execute_result"
    }
   ],
   "source": [
    "from qdrant_client import QdrantClient, models\n",
    "\n",
    "# Start the client\n",
    "client = QdrantClient(\"http://localhost:6333\")\n",
    "client.info()"
   ]
  },
  {
   "cell_type": "code",
   "execution_count": null,
   "id": "6f9d06d7",
   "metadata": {},
   "outputs": [
    {
     "data": {
      "text/plain": [
       "True"
      ]
     },
     "execution_count": 68,
     "metadata": {},
     "output_type": "execute_result"
    }
   ],
   "source": [
    "EMBEDDINGS_DIMENSIONALITY = 384\n",
    "collection_name = \"homework-2\"\n",
    "model_name = \"BAAI/bge-small-en\"\n",
    "\n",
    "# Initialize the collection\n",
    "client.create_collection(\n",
    "    collection_name=collection_name,\n",
    "    vectors_config=models.VectorParams(\n",
    "        size=EMBEDDINGS_DIMENSIONALITY,  \n",
    "        distance=models.Distance.COSINE\n",
    "    )\n",
    ")"
   ]
  },
  {
   "cell_type": "code",
   "execution_count": 70,
   "id": "7c4b9b99",
   "metadata": {},
   "outputs": [
    {
     "data": {
      "text/plain": [
       "True"
      ]
     },
     "execution_count": 70,
     "metadata": {},
     "output_type": "execute_result"
    }
   ],
   "source": [
    "client.collection_exists(collection_name)"
   ]
  },
  {
   "cell_type": "code",
   "execution_count": null,
   "id": "68904d95",
   "metadata": {},
   "outputs": [],
   "source": [
    "# Creating data enitites for Qdrant (points)\n",
    "points = []\n",
    "\n",
    "for id, doc in enumerate(documents):\n",
    "    # When adding the data, use both question and answer fields\n",
    "    text = doc.get('question', \"\") + \" \" + doc.get('text', \"\")\n",
    "\n",
    "    point = models.PointStruct(\n",
    "        id=id,\n",
    "        vector=models.Document(text=text, model=model_name),\n",
    "        payload={\n",
    "            \"text\": doc['text'],\n",
    "            \"question\": doc['question'],\n",
    "            \"section\": doc['section'],\n",
    "            \"course\": course['course']\n",
    "        } \n",
    "    )\n",
    "    points.append(point)"
   ]
  },
  {
   "cell_type": "code",
   "execution_count": 86,
   "id": "979a9049",
   "metadata": {},
   "outputs": [
    {
     "data": {
      "text/plain": [
       "PointStruct(id=0, vector=Document(text='How do I sign up? Machine Learning Zoomcamp FAQ\\nThe purpose of this document is to capture frequently asked technical questions.\\nWe did this for our data engineering course and it worked quite well. Check this document for inspiration on how to structure your questions and answers:\\nData Engineering Zoomcamp FAQ\\nIn the course GitHub repository there’s a link. Here it is: https://airtable.com/shryxwLd0COOEaqXo\\nwork', model='BAAI/bge-small-en', options=None), payload={'text': 'Machine Learning Zoomcamp FAQ\\nThe purpose of this document is to capture frequently asked technical questions.\\nWe did this for our data engineering course and it worked quite well. Check this document for inspiration on how to structure your questions and answers:\\nData Engineering Zoomcamp FAQ\\nIn the course GitHub repository there’s a link. Here it is: https://airtable.com/shryxwLd0COOEaqXo\\nwork', 'question': 'How do I sign up?', 'section': 'General course-related questions', 'course': 'mlops-zoomcamp'})"
      ]
     },
     "execution_count": 86,
     "metadata": {},
     "output_type": "execute_result"
    }
   ],
   "source": [
    "points[0]"
   ]
  },
  {
   "cell_type": "code",
   "execution_count": null,
   "id": "df93fdf6",
   "metadata": {},
   "outputs": [
    {
     "data": {
      "application/vnd.jupyter.widget-view+json": {
       "model_id": "0b6fa862dfe44a75ab6423bb61f875dc",
       "version_major": 2,
       "version_minor": 0
      },
      "text/plain": [
       "Fetching 5 files:   0%|          | 0/5 [00:00<?, ?it/s]"
      ]
     },
     "metadata": {},
     "output_type": "display_data"
    },
    {
     "data": {
      "application/vnd.jupyter.widget-view+json": {
       "model_id": "b3347b11db164f3a84389db313b35a83",
       "version_major": 2,
       "version_minor": 0
      },
      "text/plain": [
       "tokenizer_config.json:   0%|          | 0.00/366 [00:00<?, ?B/s]"
      ]
     },
     "metadata": {},
     "output_type": "display_data"
    },
    {
     "data": {
      "application/vnd.jupyter.widget-view+json": {
       "model_id": "af6ff2d39d9147a591a20e6c74591865",
       "version_major": 2,
       "version_minor": 0
      },
      "text/plain": [
       "config.json:   0%|          | 0.00/701 [00:00<?, ?B/s]"
      ]
     },
     "metadata": {},
     "output_type": "display_data"
    },
    {
     "data": {
      "application/vnd.jupyter.widget-view+json": {
       "model_id": "b39a7cf5e8914de7a7ebeda5b75a0107",
       "version_major": 2,
       "version_minor": 0
      },
      "text/plain": [
       "special_tokens_map.json:   0%|          | 0.00/125 [00:00<?, ?B/s]"
      ]
     },
     "metadata": {},
     "output_type": "display_data"
    },
    {
     "data": {
      "application/vnd.jupyter.widget-view+json": {
       "model_id": "12dfbd90920147b1a89e2bf855a8481a",
       "version_major": 2,
       "version_minor": 0
      },
      "text/plain": [
       "tokenizer.json: 0.00B [00:00, ?B/s]"
      ]
     },
     "metadata": {},
     "output_type": "display_data"
    },
    {
     "data": {
      "application/vnd.jupyter.widget-view+json": {
       "model_id": "0a83682514b940bba306bce70c88088c",
       "version_major": 2,
       "version_minor": 0
      },
      "text/plain": [
       "model_optimized.onnx:   0%|          | 0.00/133M [00:00<?, ?B/s]"
      ]
     },
     "metadata": {},
     "output_type": "display_data"
    },
    {
     "data": {
      "text/plain": [
       "UpdateResult(operation_id=0, status=<UpdateStatus.COMPLETED: 'completed'>)"
      ]
     },
     "execution_count": 87,
     "metadata": {},
     "output_type": "execute_result"
    }
   ],
   "source": [
    "# Index the data\n",
    "client.upsert(\n",
    "    collection_name=collection_name,\n",
    "    points=points\n",
    ")"
   ]
  },
  {
   "cell_type": "code",
   "execution_count": null,
   "id": "d9029e44",
   "metadata": {},
   "outputs": [],
   "source": [
    "# function for vector search\n",
    "def search(query, limit=1):\n",
    "\n",
    "    results = client.query_points(\n",
    "        collection_name=collection_name,\n",
    "        query=models.Document( \n",
    "            text=query,\n",
    "            model=model_name \n",
    "        ),\n",
    "        limit=limit, # top closest matches\n",
    "        with_payload=True #to get metadata in the results\n",
    "    )\n",
    "\n",
    "    return results"
   ]
  },
  {
   "cell_type": "code",
   "execution_count": null,
   "id": "0c8028ca",
   "metadata": {},
   "outputs": [],
   "source": [
    "# do the vector search with the query from Question 1\n",
    "search_result = search(query)"
   ]
  },
  {
   "cell_type": "code",
   "execution_count": null,
   "id": "7222fdd1",
   "metadata": {},
   "outputs": [
    {
     "name": "stdout",
     "output_type": "stream",
     "text": [
      "For the query \"I just discovered the course. Can I join now?\",\n",
      "the best similarity score of the search results: 0.87\n"
     ]
    }
   ],
   "source": [
    "# highest score is from the best data point found (because of the parameter limit=1) \n",
    "best_similarity_score = search_result.points[0].score\n",
    "\n",
    "print(f'For the query \"{query}\",\\nthe best similarity score of the search results: {best_similarity_score:.2f}')"
   ]
  },
  {
   "cell_type": "code",
   "execution_count": null,
   "id": "20fc70e9",
   "metadata": {},
   "outputs": [
    {
     "name": "stdout",
     "output_type": "stream",
     "text": [
      "'The course has already started. Can I still join it?'\n",
      "('Yes, you can. You won’t be able to submit some of the homeworks, but you can '\n",
      " 'still take part in the course.\\n'\n",
      " 'In order to get a certificate, you need to submit 2 out of 3 course projects '\n",
      " 'and review 3 peers’ Projects by the deadline. It means that if you join the '\n",
      " 'course at the end of November and manage to work on two projects, you will '\n",
      " 'still be eligible for a certificate.')\n"
     ]
    }
   ],
   "source": [
    "# check the metadata of the search result\n",
    "pprint(search_result.points[0].payload['question'])\n",
    "pprint(search_result.points[0].payload['text'])"
   ]
  },
  {
   "cell_type": "code",
   "execution_count": null,
   "id": "c68b4360",
   "metadata": {},
   "outputs": [],
   "source": []
  }
 ],
 "metadata": {
  "kernelspec": {
   "display_name": "base",
   "language": "python",
   "name": "python3"
  },
  "language_info": {
   "codemirror_mode": {
    "name": "ipython",
    "version": 3
   },
   "file_extension": ".py",
   "mimetype": "text/x-python",
   "name": "python",
   "nbconvert_exporter": "python",
   "pygments_lexer": "ipython3",
   "version": "3.9.18"
  }
 },
 "nbformat": 4,
 "nbformat_minor": 5
}
